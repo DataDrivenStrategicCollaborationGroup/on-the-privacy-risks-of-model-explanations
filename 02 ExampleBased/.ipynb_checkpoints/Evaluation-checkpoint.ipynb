{
 "cells": [
  {
   "cell_type": "code",
   "execution_count": 1,
   "metadata": {},
   "outputs": [],
   "source": [
    "import matplotlib.pyplot as plt\n",
    "import numpy as np\n",
    "import pandas as pd\n",
    "import sklearn\n",
    "from sklearn.linear_model import LinearRegression\n",
    "from sklearn.model_selection import train_test_split\n",
    "from sklearn.datasets import make_classification\n",
    "import pickle\n",
    "import networkx as nx\n",
    "import random\n",
    "from collections import Counter"
   ]
  },
  {
   "cell_type": "markdown",
   "metadata": {},
   "source": [
    "# Record based experiments"
   ]
  },
  {
   "cell_type": "code",
   "execution_count": 2,
   "metadata": {},
   "outputs": [],
   "source": [
    "'''\n",
    "Uses an array of influence values and creates a ranking of the training points.\n",
    "'''\n",
    "def create_edges(infls): \n",
    "    edges = np.zeros([len(infls),len(infls[0])])\n",
    "    for i,infl in enumerate(infls):\n",
    "        for k,position in enumerate((np.abs(infl).argsort())):\n",
    "            #print(position)\n",
    "            edges[i,position] = len(infls[0]) - k \n",
    "    return edges\n",
    "'''\n",
    "Assumes to get the output from create_edges when run on the influences on the training set\n",
    "returns the position of each training point for its own prediction\n",
    "'''\n",
    "def create_positions(edges): \n",
    "    position = np.zeros(len(edges))\n",
    "    for i,row in enumerate(edges):\n",
    "        position[i] = row[i]\n",
    "    return position\n",
    "\n",
    "def printBosxPlotsForLatex(boxplot,numberPlots=3):\n",
    "    for i in range(numberPlots):\n",
    "        print(\"{} {} {} {} {} {}\".format(i,\n",
    "                                 boxplot['medians'][i].get_path().vertices[1,1],\n",
    "                                 boxplot['boxes'][i].get_path().vertices[2,1],\n",
    "                                 boxplot['boxes'][i].get_path().vertices[0,1],\n",
    "                                 boxplot['whiskers'][2*i+1].get_path().vertices[1,1],\n",
    "                                 boxplot['whiskers'][2*i].get_path().vertices[1,1]))\n",
    "    print(\"\"),\n",
    "    print(\"\\\\addplot [only marks,mark=o]coordinates {\")\n",
    "    for i in range(numberPlots):\n",
    "        for point in boxplot['fliers'][i].get_path().vertices:\n",
    "            print(\"({},{})\".format(i,point[1]))\n",
    "    print(\"};\")"
   ]
  },
  {
   "cell_type": "code",
   "execution_count": 3,
   "metadata": {},
   "outputs": [],
   "source": [
    "datasets = [\"adult\",\"hospital\",\"fishdog\"]\n",
    "sizes = {\"adult\":2000,\"hospital\":2000,\"fishdog\":1800}\n",
    "set_length = {\"adult\":48842,\"hospital\":101766,\"fishdog\":2400}\n",
    "path = \"record_output/{}_{}/{}/{}\"\n",
    "model_type = \"logistic_regression\"\n",
    "ks = [1, 5, 10]\n",
    "number_iterations =10"
   ]
  },
  {
   "cell_type": "code",
   "execution_count": 4,
   "metadata": {},
   "outputs": [
    {
     "name": "stdout",
     "output_type": "stream",
     "text": [
      "/home/martin/PvsT/ExploitingTransparencyMeasures\n"
     ]
    }
   ],
   "source": [
    "cd .. "
   ]
  },
  {
   "cell_type": "code",
   "execution_count": 5,
   "metadata": {},
   "outputs": [
    {
     "name": "stderr",
     "output_type": "stream",
     "text": [
      "Using TensorFlow backend.\n"
     ]
    }
   ],
   "source": [
    "from datasets import get_dataset, DATASETS, load_hospital, load_adult"
   ]
  },
  {
   "cell_type": "markdown",
   "metadata": {},
   "source": [
    "Get the influences on the training set"
   ]
  },
  {
   "cell_type": "code",
   "execution_count": 6,
   "metadata": {},
   "outputs": [],
   "source": [
    "influences, indicies = {} , {}"
   ]
  },
  {
   "cell_type": "code",
   "execution_count": 7,
   "metadata": {},
   "outputs": [
    {
     "name": "stdout",
     "output_type": "stream",
     "text": [
      "adult\n",
      "0, "
     ]
    },
    {
     "ename": "FileNotFoundError",
     "evalue": "[Errno 2] No such file or directory: 'record_output/adult_logistic_regression/0/0'",
     "output_type": "error",
     "traceback": [
      "\u001b[0;31m---------------------------------------------------------------------------\u001b[0m",
      "\u001b[0;31mFileNotFoundError\u001b[0m                         Traceback (most recent call last)",
      "\u001b[0;32m<ipython-input-7-6dc336c461d6>\u001b[0m in \u001b[0;36m<module>\u001b[0;34m\u001b[0m\n\u001b[1;32m     37\u001b[0m         \u001b[0mloo_models\u001b[0m \u001b[0;34m=\u001b[0m \u001b[0;34m[\u001b[0m\u001b[0;34m]\u001b[0m\u001b[0;34m\u001b[0m\u001b[0;34m\u001b[0m\u001b[0m\n\u001b[1;32m     38\u001b[0m         \u001b[0;32mfor\u001b[0m \u001b[0mi\u001b[0m \u001b[0;32min\u001b[0m \u001b[0mrange\u001b[0m\u001b[0;34m(\u001b[0m\u001b[0mdata_size\u001b[0m\u001b[0;34m)\u001b[0m\u001b[0;34m:\u001b[0m\u001b[0;34m\u001b[0m\u001b[0;34m\u001b[0m\u001b[0m\n\u001b[0;32m---> 39\u001b[0;31m             \u001b[0mloo_models\u001b[0m\u001b[0;34m.\u001b[0m\u001b[0mappend\u001b[0m\u001b[0;34m(\u001b[0m\u001b[0mpickle\u001b[0m\u001b[0;34m.\u001b[0m\u001b[0mload\u001b[0m\u001b[0;34m(\u001b[0m\u001b[0mopen\u001b[0m\u001b[0;34m(\u001b[0m\u001b[0mpath\u001b[0m\u001b[0;34m.\u001b[0m\u001b[0mformat\u001b[0m\u001b[0;34m(\u001b[0m\u001b[0mdataset\u001b[0m\u001b[0;34m,\u001b[0m\u001b[0mmodel_type\u001b[0m\u001b[0;34m,\u001b[0m\u001b[0mseed\u001b[0m\u001b[0;34m,\u001b[0m\u001b[0mi\u001b[0m\u001b[0;34m)\u001b[0m\u001b[0;34m,\u001b[0m\u001b[0;34m\"rb\"\u001b[0m\u001b[0;34m)\u001b[0m\u001b[0;34m)\u001b[0m\u001b[0;34m)\u001b[0m\u001b[0;34m\u001b[0m\u001b[0;34m\u001b[0m\u001b[0m\n\u001b[0m\u001b[1;32m     40\u001b[0m         \u001b[0morg_model\u001b[0m \u001b[0;34m=\u001b[0m \u001b[0mpickle\u001b[0m\u001b[0;34m.\u001b[0m\u001b[0mload\u001b[0m\u001b[0;34m(\u001b[0m\u001b[0mopen\u001b[0m\u001b[0;34m(\u001b[0m\u001b[0mpath\u001b[0m\u001b[0;34m.\u001b[0m\u001b[0mformat\u001b[0m\u001b[0;34m(\u001b[0m\u001b[0mdataset\u001b[0m\u001b[0;34m,\u001b[0m\u001b[0mmodel_type\u001b[0m\u001b[0;34m,\u001b[0m\u001b[0mseed\u001b[0m\u001b[0;34m,\u001b[0m\u001b[0;34m-\u001b[0m\u001b[0;36m1\u001b[0m\u001b[0;34m)\u001b[0m\u001b[0;34m,\u001b[0m\u001b[0;34m\"rb\"\u001b[0m\u001b[0;34m)\u001b[0m\u001b[0;34m)\u001b[0m\u001b[0;34m\u001b[0m\u001b[0;34m\u001b[0m\u001b[0m\n\u001b[1;32m     41\u001b[0m         \u001b[0my\u001b[0m \u001b[0;34m=\u001b[0m \u001b[0mtrain_dataset\u001b[0m\u001b[0;34m.\u001b[0m\u001b[0mx\u001b[0m\u001b[0;34m\u001b[0m\u001b[0;34m\u001b[0m\u001b[0m\n",
      "\u001b[0;31mFileNotFoundError\u001b[0m: [Errno 2] No such file or directory: 'record_output/adult_logistic_regression/0/0'"
     ]
    }
   ],
   "source": [
    "for dataset in datasets:\n",
    "    print(dataset)\n",
    "    data_size = sizes[dataset]\n",
    "    influences[dataset],indicies[dataset] = [],[]\n",
    "    for seed in range(number_iterations):\n",
    "        print(seed, end=\", \")\n",
    "        train_dataset, test_dataset = get_dataset(dataset, seed=seed, size=data_size, categorical=False)\n",
    "        np.random.seed(seed)\n",
    "        if dataset == \"fishdog\":\n",
    "            train_ind, test_ind, _, _ = train_test_split(np.arange(2400), np.arange(2400), test_size=0.25, random_state=seed)\n",
    "        elif dataset == \"hospital\":\n",
    "            x, y = load_hospital()\n",
    "            y = (y + 1) / 2\n",
    "\n",
    "            np.random.seed(seed)\n",
    "            num_examples = set_length[dataset]\n",
    "            num_train_examples_per_class = int(data_size / 2)\n",
    "            num_test_examples_per_class = int(data_size / 2)\n",
    "\n",
    "            pos_idx = np.where(y == 1)[0]\n",
    "            neg_idx = np.where(y == 0)[0]\n",
    "            np.random.shuffle(pos_idx)\n",
    "            np.random.shuffle(neg_idx)\n",
    "\n",
    "            train_idx = np.concatenate((pos_idx[:num_train_examples_per_class], neg_idx[:num_train_examples_per_class]))\n",
    "            test_idx = np.concatenate((pos_idx[num_train_examples_per_class:num_train_examples_per_class +\n",
    "                               num_test_examples_per_class],\n",
    "                               neg_idx[num_train_examples_per_class:num_train_examples_per_class +\n",
    "                               num_test_examples_per_class]))\n",
    "            np.random.shuffle(train_idx)\n",
    "            np.random.shuffle(test_idx)\n",
    "            train_ind = train_idx\n",
    "        else:\n",
    "            ind =np.random.choice(range(set_length[dataset]), size=2 * data_size, replace=False)\n",
    "            train_ind, test_ind, _, _ = train_test_split(ind, ind, test_size=0.5, random_state=42)\n",
    "        indicies[dataset].append(train_ind)\n",
    "        loo_models = []\n",
    "        for i in range(data_size):\n",
    "            loo_models.append(pickle.load(open(path.format(dataset,model_type,seed,i),\"rb\")))\n",
    "        org_model = pickle.load(open(path.format(dataset,model_type,seed,-1),\"rb\"))\n",
    "        y = train_dataset.x\n",
    "        org_predict = org_model.predict_proba(y)[:,0]\n",
    "        loo_predict = []\n",
    "        for i in range(len(loo_models)):\n",
    "            loo_predict.append(loo_models[i].predict_proba(y)[:,0])\n",
    "        loo_predict = np.asarray(loo_predict).T\n",
    "        influences[dataset].append(loo_predict - org_predict.repeat(len(loo_models)).reshape([len(y), len(loo_models)]))\n",
    "    print(\"\")"
   ]
  },
  {
   "cell_type": "markdown",
   "metadata": {},
   "source": [
    "Get the position of each training point for its own predictions"
   ]
  },
  {
   "cell_type": "code",
   "execution_count": 18,
   "metadata": {},
   "outputs": [
    {
     "name": "stdout",
     "output_type": "stream",
     "text": [
      "adult\n",
      "hospital\n",
      "fishdog\n"
     ]
    }
   ],
   "source": [
    "positions = {}\n",
    "for dataset in datasets:\n",
    "    print(dataset)\n",
    "    positions[dataset] = []\n",
    "    for iteration in range(number_iterations):\n",
    "        positions[dataset].append(create_positions(create_edges(influences[dataset][iteration])))\n",
    "    positions[dataset] = np.asarray(positions[dataset] )"
   ]
  },
  {
   "cell_type": "markdown",
   "metadata": {},
   "source": [
    "## Figure 6"
   ]
  },
  {
   "cell_type": "code",
   "execution_count": 19,
   "metadata": {},
   "outputs": [],
   "source": [
    "numbers = {}\n",
    "for dataset in datasets:\n",
    "    numbers[dataset] = {1:[] , 5:[], 10:[]}\n",
    "    for iteration in range(number_iterations):\n",
    "        for k in [1,5,10]:\n",
    "            numbers[dataset][k].append((positions[dataset][iteration] <= k).sum())"
   ]
  },
  {
   "cell_type": "code",
   "execution_count": 20,
   "metadata": {},
   "outputs": [
    {
     "data": {
      "image/png": "[encoded data removed]",
      "text/plain": [
       "<Figure size 1440x360 with 3 Axes>"
      ]
     },
     "metadata": {
      "needs_background": "light"
     },
     "output_type": "display_data"
    }
   ],
   "source": [
    "fig, axs = plt.subplots(1,len(datasets),figsize=(20,5))\n",
    "for i,dataset in enumerate([\"adult\", \"fishdog\", \"hospital\"]):\n",
    "    data_size = sizes[dataset]\n",
    "    \n",
    "    data_forplot = [np.asarray(numbers[dataset][k])/data_size*100 for k in ks]\n",
    "        \n",
    "    box =  axs[i].boxplot(data_forplot)\n",
    "    axs[i].set_ylim([0,80])\n",
    "    axs[i].set_title(dataset)\n",
    "    #printBosxPlotsForLatex(box)"
   ]
  },
  {
   "cell_type": "markdown",
   "metadata": {},
   "source": [
    "## Figure 7"
   ]
  },
  {
   "cell_type": "code",
   "execution_count": 21,
   "metadata": {
    "collapsed": true
   },
   "outputs": [],
   "source": [
    "dataset = \"fishdog\"\n",
    "seed = 0 \n",
    "data_size = 1800\n",
    "train_dataset, test_dataset = get_dataset(dataset, seed=seed, size=data_size, categorical=False)\n",
    "loo_models = []\n",
    "for i in range(data_size):\n",
    "    loo_models.append(pickle.load(open(path.format(dataset,model_type,seed,i),\"rb\")))\n",
    "org_model = pickle.load(open(path.format(dataset,model_type,seed,-1),\"rb\"))\n",
    "y = test_dataset.x\n",
    "org_predict = org_model.predict_proba(y)[:,0]\n",
    "loo_predict = []\n",
    "for i in range(len(loo_models)):\n",
    "    loo_predict.append(loo_models[i].predict_proba(y)[:,0])\n",
    "loo_predict = np.asarray(loo_predict).T\n",
    "test_infls = loo_predict - org_predict.repeat(len(loo_models)).reshape([len(y), len(loo_models)])"
   ]
  },
  {
   "cell_type": "code",
   "execution_count": 23,
   "metadata": {},
   "outputs": [
    {
     "data": {
      "image/png": "[encoded data removed]",
      "text/plain": [
       "<Figure size 1440x360 with 2 Axes>"
      ]
     },
     "metadata": {
      "needs_background": "light"
     },
     "output_type": "display_data"
    }
   ],
   "source": [
    "fig, axs = plt.subplots(1,2,figsize=(20,5))\n",
    "axs[0].hist(np.log(np.abs(influences[\"fishdog\"][0]).max(axis=1)))\n",
    "axs[0].hist(np.log(np.abs(influences[\"fishdog\"][0][positions[dataset][seed] <= 5]).max(axis=1)),bins=4)\n",
    "axs[1].hist(np.log(np.abs(test_infls).max(axis=1)));"
   ]
  },
  {
   "cell_type": "markdown",
   "metadata": {},
   "source": [
    "## Table 2"
   ]
  },
  {
   "cell_type": "code",
   "execution_count": 24,
   "metadata": {
    "collapsed": true
   },
   "outputs": [],
   "source": [
    "def get_minority_selector(minoritiy_types, minority_inds, dataset):\n",
    "    minority_selector = {}\n",
    "    for minority_type in minoritiy_types:\n",
    "        minority_selector[minority_type] = []\n",
    "        for iteration in range(number_iterations):\n",
    "            itereation_ind = indicies[dataset][iteration]\n",
    "            selector =  (itereation_ind == minority_inds[minority_type][0])\n",
    "            for individual_id in minority_inds[minority_type]:\n",
    "                selector =  np.logical_or(selector, (itereation_ind == individual_id))\n",
    "            minority_selector[minority_type].append(selector)\n",
    "    return minority_selector"
   ]
  },
  {
   "cell_type": "code",
   "execution_count": 25,
   "metadata": {
    "collapsed": true
   },
   "outputs": [],
   "source": [
    "def print_percentiles(minority_selector, minoritiy_types, minority_inds, dataset):\n",
    "    for minority_type in minoritiy_types:\n",
    "        print(\"{:20}\\t& {:3.2f}\\%\\t\".format(minority_type,100.0*len(minority_inds[minority_type])/len(minority_inds[\"Whole dataset\"])),end=\"\")\n",
    "        for k in [1,5,10]:\n",
    "            rate = []\n",
    "            for iteration in range(number_iterations):\n",
    "                if len((positions[dataset][iteration,minority_selector[minority_type][iteration]]) > 0):\n",
    "                    rate.append((positions[dataset][iteration,minority_selector[minority_type][iteration]] <= k).mean())\n",
    "            print(\"& {:3.0f}\\%\".format(np.asarray(rate).mean()*100) , end=\" \")\n",
    "        print(\"\\\\\\\\\")"
   ]
  },
  {
   "cell_type": "code",
   "execution_count": 42,
   "metadata": {
    "collapsed": true
   },
   "outputs": [],
   "source": [
    "def load_dataset(dataset_name):\n",
    "    if dataset_name == \"adult\":\n",
    "        dataset_train, dataset_test, colum_names = load_adult(\"data/adult/adult.data\", \"data/adult/adult.test\")\n",
    "        y = np.asarray(np.concatenate(([dataset_train.target, dataset_test.target])))[:]\n",
    "        x = np.asarray(np.concatenate(([dataset_train.data, dataset_test.data])))\n",
    "        x = pd.DataFrame(x)\n",
    "        x.columns = colum_names\n",
    "        return x, y\n",
    "    elif dataset_name == \"hospital\":\n",
    "        x, y = load_hospital()\n",
    "        return x, np.asarray(y)"
   ]
  },
  {
   "cell_type": "markdown",
   "metadata": {},
   "source": [
    "### Fishdog"
   ]
  },
  {
   "cell_type": "code",
   "execution_count": 26,
   "metadata": {
    "collapsed": true
   },
   "outputs": [],
   "source": [
    "# These are the indicies (in the original dataset of minority classe which we obtained by visual observation)\n",
    "minoritiy_types = [\"Whole dataset\",\"Birds\", \"Clownfish\", \"Lion fish\"]\n",
    "minority_inds = {}\n",
    "minority_inds[\"Whole dataset\"] = [i for i in range(2400)]\n",
    "minority_inds[\"Birds\"] = [292,834,1273,1493,1728,1842,1874,1950,2022,2053,2099,2120,2123,2139,2165]\n",
    "minority_inds[\"Clownfish\"]  = [40,69,155,203,442,753,755,947,999,1154,1250,1289,1380,1386,1682,1720,1827,1835,1890,1939,2031,2094,2213,2214,2262,2277]\n",
    "minority_inds[\"Lion fish\"]  = [61,100,101,327,400,701,765,964,1009,1050,1123,1163,1253,1267,1326,1345,1358,1413,1503,1553,1864,1896,1909,2068,2135,2160,2166,2294,2336]"
   ]
  },
  {
   "cell_type": "code",
   "execution_count": 27,
   "metadata": {},
   "outputs": [
    {
     "name": "stdout",
     "output_type": "stream",
     "text": [
      "Whole dataset       \t& 100.00\\%\t&  16\\% &  24\\% &  28\\% \\\\\n",
      "Birds               \t& 0.62\\%\t&  64\\% &  84\\% &  86\\% \\\\\n",
      "Clownfish           \t& 1.08\\%\t&  14\\% &  30\\% &  33\\% \\\\\n",
      "Lion fish           \t& 1.21\\%\t&   9\\% &  31\\% &  43\\% \\\\\n"
     ]
    }
   ],
   "source": [
    "minority_selector =  get_minority_selector(minoritiy_types, minority_inds, \"fishdog\")\n",
    "print_percentiles(minority_selector, minoritiy_types, minority_inds, \"fishdog\")"
   ]
  },
  {
   "cell_type": "markdown",
   "metadata": {},
   "source": [
    "### Hospital"
   ]
  },
  {
   "cell_type": "code",
   "execution_count": 31,
   "metadata": {},
   "outputs": [],
   "source": [
    "hospital_x, _ = load_dataset(\"hospital\")"
   ]
  },
  {
   "cell_type": "code",
   "execution_count": 32,
   "metadata": {
    "collapsed": true
   },
   "outputs": [],
   "source": [
    "# These are the indicies (in the original dataset of minority classe which we obtained by visual observation)\n",
    "minoritiy_types = [\"Whole dataset\",\"Age 0 -10\", \"Age 10 -20\", \"Caucasian\", \"African American\",\n",
    "                   \"Hispanics\", \"Other race\", \"Asian American\"]\n",
    "minority_inds = {}\n",
    "minority_inds[\"Whole dataset\"] = [i for i in range(len(hospital_x))]\n",
    "minority_inds[\"Age 0 -10\"] = [i for i in range(len(hospital_x)) if hospital_x[\"age_[0-10)\"][i]] \n",
    "minority_inds[\"Age 10 -20\"]  = [i for i in range(len(hospital_x)) if hospital_x[\"age_[10-20)\"][i]] \n",
    "minority_inds[\"Caucasian\"]  = [i for i in range(len(hospital_x)) if hospital_x[\"race_Caucasian\"][i]]\n",
    "minority_inds[\"African American\"]  = [i for i in range(len(hospital_x)) if hospital_x[\"race_AfricanAmerican\"][i]]\n",
    "minority_inds[\"Hispanics\"]  = [i for i in range(len(hospital_x)) if hospital_x[\"race_Hispanic\"][i]]\n",
    "minority_inds[\"Other race\"]  = [i for i in range(len(hospital_x)) if hospital_x[\"race_Other\"][i]]\n",
    "minority_inds[\"Asian American\"]  = [i for i in range(len(hospital_x)) if hospital_x[\"race_Asian\"][i]]"
   ]
  },
  {
   "cell_type": "code",
   "execution_count": 33,
   "metadata": {},
   "outputs": [
    {
     "name": "stdout",
     "output_type": "stream",
     "text": [
      "Whole dataset       \t& 100.00\\%\t&  33\\% &  63\\% &  75\\% \\\\\n",
      "Age 0 -10           \t& 0.16\\%\t&  61\\% & 100\\% & 100\\% \\\\\n",
      "Age 10 -20          \t& 0.68\\%\t&  23\\% &  62\\% &  95\\% \\\\\n",
      "Caucasian           \t& 74.78\\%\t&  32\\% &  62\\% &  74\\% \\\\\n",
      "African American    \t& 18.88\\%\t&  36\\% &  66\\% &  78\\% \\\\\n",
      "Hispanics           \t& 2.00\\%\t&  40\\% &  61\\% &  77\\% \\\\\n",
      "Other race          \t& 1.48\\%\t&  30\\% &  60\\% &  79\\% \\\\\n",
      "Asian American      \t& 0.63\\%\t&  33\\% &  70\\% &  95\\% \\\\\n"
     ]
    }
   ],
   "source": [
    "minority_selector =  get_minority_selector(minoritiy_types, minority_inds, \"hospital\")\n",
    "rates = print_percentiles(minority_selector, minoritiy_types, minority_inds, \"hospital\")"
   ]
  },
  {
   "cell_type": "markdown",
   "metadata": {},
   "source": [
    "### Adult"
   ]
  },
  {
   "cell_type": "code",
   "execution_count": 50,
   "metadata": {},
   "outputs": [],
   "source": [
    "cols = [\"Age\", \"Workclass\", \"fnlwgt\", \"Education\", \"Education-Num\", \"Marital Status\",\n",
    "            \"Occupation\", \"Relationship\", \"Race\", \"Sex\", \"Capital Gain\", \"Capital Loss\",\n",
    "            \"Hours per week\", \"Country\", \"Target\"]\n",
    "training_data = pd.read_csv(\n",
    "                    \"data/adult/adult.data\",\n",
    "                    sep=r'\\s*,\\s*',\n",
    "                    names=cols,\n",
    "                    engine='python',\n",
    "                    na_values=\"?\")\n",
    "test_data = pd.read_csv(\n",
    "                    \"data/adult/adult.test\",\n",
    "                    sep=r'\\s*,\\s*',\n",
    "                    names=cols,\n",
    "                    engine='python',\n",
    "                    na_values=\"?\")\n",
    "adult = pd.concat([training_data,test_data])"
   ]
  },
  {
   "cell_type": "code",
   "execution_count": 56,
   "metadata": {},
   "outputs": [],
   "source": [
    "minoritiy_types = [\"Whole dataset\", \"Age 10 -20\", \"White\", \"Black\",\n",
    "                   \"Amer-Indian-Eskimo\", \"Other\", \"Asian-Pac-Islander\"]\n",
    "minority_inds = {}\n",
    "minority_inds[\"Whole dataset\"] = [i for i in range(len(adult))]\n",
    "minority_inds[\"Age 10 -20\"]  = [i for i in range(len(adult)) if adult[\"Age\"].iloc[i] >= 10 and adult[\"Age\"].iloc[i] < 20] \n",
    "minority_inds[\"White\"]  = [i for i in range(len(adult)) if adult[\"Race\"].iloc[i] == 'White']\n",
    "minority_inds[\"Black\"]  = [i for i in range(len(adult)) if adult[\"Race\"].iloc[i] == 'Black']\n",
    "minority_inds[\"Amer-Indian-Eskimo\"]  = [i for i in range(len(adult)) if adult[\"Race\"].iloc[i] == 'Amer-Indian-Eskimo']\n",
    "minority_inds[\"Other\"]  = [i for i in range(len(adult)) if adult[\"Race\"].iloc[i] == 'Other']\n",
    "minority_inds[\"Asian-Pac-Islander\"]  = [i for i in range(len(adult)) if adult[\"Race\"].iloc[i] == 'Asian-Pac-Islander']"
   ]
  },
  {
   "cell_type": "code",
   "execution_count": 57,
   "metadata": {},
   "outputs": [
    {
     "name": "stdout",
     "output_type": "stream",
     "text": [
      "Whole dataset       \t& 100.00\\%\t&  10\\% &  21\\% &  28\\% \\\\\n",
      "Age 10 -20          \t& 5.14\\%\t&   0\\% &   1\\% &   1\\% \\\\\n",
      "White               \t& 85.50\\%\t&  10\\% &  21\\% &  28\\% \\\\\n",
      "Black               \t& 9.59\\%\t&   9\\% &  16\\% &  19\\% \\\\\n",
      "Amer-Indian-Eskimo  \t& 0.96\\%\t&   8\\% &  23\\% &  32\\% \\\\\n",
      "Other               \t& 0.83\\%\t&  16\\% &  32\\% &  43\\% \\\\\n",
      "Asian-Pac-Islander  \t& 3.11\\%\t&  21\\% &  40\\% &  48\\% \\\\\n"
     ]
    }
   ],
   "source": [
    "minority_selector =  get_minority_selector(minoritiy_types, minority_inds, \"adult\")\n",
    "rates = print_percentiles(minority_selector, minoritiy_types, minority_inds, \"adult\")"
   ]
  },
  {
   "cell_type": "markdown",
   "metadata": {},
   "source": [
    "## Figure 8"
   ]
  },
  {
   "cell_type": "markdown",
   "metadata": {},
   "source": [
    "Latex illustration"
   ]
  },
  {
   "cell_type": "markdown",
   "metadata": {},
   "source": [
    "## Table 3"
   ]
  },
  {
   "cell_type": "code",
   "execution_count": null,
   "metadata": {},
   "outputs": [],
   "source": [
    "dimensions = {\"adult\": 104, \"hospital\": 127, \"fishdog\": 2048}\n",
    "print(\"{}\\t\\t{}\\t{}\\t{}\\t{}\".format(\"Dataset\", \"n\", \"Size\", \"# points recovered\", \"% of training set\"))\n",
    "for dataset in  datasets:\n",
    "    df = pd.read_csv(\"{}/{}/{}.csv\".format('record_output', 'algorithm1', dataset))\n",
    "    print(\"{:10s}\\t{}\\t{}\\t{}\\t\\t\\t{:.1f}\".format(dataset, dimensions[dataset], sizes[dataset],\n",
    "                                      df[dataset].mean(), 1/sizes[dataset]*df[dataset].mean()*100))"
   ]
  },
  {
   "cell_type": "markdown",
   "metadata": {},
   "source": [
    "## Figure 9"
   ]
  },
  {
   "cell_type": "code",
   "execution_count": 62,
   "metadata": {
    "collapsed": true
   },
   "outputs": [],
   "source": [
    "original_datasets = {}\n",
    "original_datasets[\"hospital\"] = np.asarray(load_hospital()[0])"
   ]
  },
  {
   "cell_type": "code",
   "execution_count": 63,
   "metadata": {
    "collapsed": true
   },
   "outputs": [],
   "source": [
    "dataset_train, dataset_test, _ = load_adult(\"data/adult/adult.data\", \"data/adult/adult.test\")\n",
    "y = np.asarray(np.concatenate(([dataset_train.target, dataset_test.target])))\n",
    "x = np.asarray(np.concatenate(([dataset_train.data, dataset_test.data])))\n",
    "original_datasets[\"adult\"] = x"
   ]
  },
  {
   "cell_type": "code",
   "execution_count": 64,
   "metadata": {
    "collapsed": true
   },
   "outputs": [],
   "source": [
    "train_x = pickle.load( open( \"Notebooks/latent_images/latent_image_train_x.p\", \"rb\" ) )\n",
    "train_y = pickle.load( open( \"Notebooks/latent_images/latent_image_train_y.p\", \"rb\" ) )\n",
    "test_x = pickle.load( open( \"Notebooks/latent_images/latent_image_test_x.p\", \"rb\" ) )\n",
    "test_y = pickle.load( open( \"Notebooks/latent_images/latent_image_test_y.p\", \"rb\" ) )\n",
    "x = np.asarray(np.concatenate(([train_x, test_x])))\n",
    "original_datasets[\"fishdog\"] = x"
   ]
  },
  {
   "cell_type": "markdown",
   "metadata": {},
   "source": [
    "### Uniform"
   ]
  },
  {
   "cell_type": "code",
   "execution_count": 69,
   "metadata": {
    "collapsed": true
   },
   "outputs": [],
   "source": [
    "uniform_points = {}\n",
    "maxima = original_datasets[\"hospital\"].max(axis=0)\n",
    "minima = original_datasets[\"hospital\"].min(axis=0)\n",
    "uniform_points[\"hospital\"]  = np.random.uniform(low=minima,high=maxima,size=[1000,len(maxima)])\n",
    "maxima = original_datasets[\"adult\"].max(axis=0)\n",
    "minima = original_datasets[\"adult\"].min(axis=0)\n",
    "uniform_points[\"adult\"]  = np.random.uniform(low=minima,high=maxima,size=[1000,len(maxima)])\n",
    "uniform_points[\"fishdog\"]  = pickle.load(open(\"Notebooks/latent_images/randomPoints.p\",\"br\"))"
   ]
  },
  {
   "cell_type": "code",
   "execution_count": 72,
   "metadata": {
    "collapsed": true
   },
   "outputs": [],
   "source": [
    "unfiform_infls = {}"
   ]
  },
  {
   "cell_type": "code",
   "execution_count": 73,
   "metadata": {},
   "outputs": [
    {
     "name": "stdout",
     "output_type": "stream",
     "text": [
      "adult\n",
      "0, 1, 2, 3, 4, 5, 6, 7, 8, 9, hospital\n",
      "0, 1, 2, 3, 4, 5, 6, 7, 8, 9, fishdog\n",
      "0, 1, 2, 3, 4, 5, 6, 7, 8, 9, "
     ]
    }
   ],
   "source": [
    "for dataset in datasets: \n",
    "    print(dataset)\n",
    "    data_size = sizes[dataset]\n",
    "    unfiform_infls[dataset] = []\n",
    "    for seed in range(10):\n",
    "        print(seed, end=\", \")\n",
    "        train_dataset, test_dataset = get_dataset(dataset, seed=seed, size=data_size, categorical=False)\n",
    "        n = len(train_dataset.x[0])\n",
    "        loo_models = []\n",
    "        for i in range(data_size):\n",
    "            loo_models.append(pickle.load(open(path.format(dataset,model_type,seed,i),\"rb\")))\n",
    "        org_model = pickle.load(open(path.format(dataset,model_type,seed,-1),\"rb\"))\n",
    "        y = uniform_points[dataset]\n",
    "        org_predict = org_model.predict_proba(y)[:,0]\n",
    "        loo_predict = []\n",
    "        for i in range(len(loo_models)):\n",
    "            loo_predict.append(loo_models[i].predict_proba(y)[:,0])\n",
    "        loo_predict = np.asarray(loo_predict).T\n",
    "        unfiform_infls[dataset].append(loo_predict - org_predict.repeat(len(loo_models)).reshape([len(y), len(loo_models)]))\n",
    "    print(\"\")"
   ]
  },
  {
   "cell_type": "code",
   "execution_count": 75,
   "metadata": {},
   "outputs": [
    {
     "data": {
      "image/png": "[encoded data removed]",
      "text/plain": [
       "<Figure size 1440x360 with 3 Axes>"
      ]
     },
     "metadata": {
      "needs_background": "light"
     },
     "output_type": "display_data"
    }
   ],
   "source": [
    "fig, axs = plt.subplots(1,len(datasets),figsize=(20,5))\n",
    "uniform_result = {}\n",
    "for plt_i,dataset in enumerate(datasets):\n",
    "    uniform_result[dataset] = np.zeros([len(ks),10,1000])\n",
    "    datasize = sizes[dataset]\n",
    "    for seed in range(10):\n",
    "        sorted_uniform = np.argsort(np.abs(unfiform_infls[dataset][seed]),axis=1)\n",
    "        for j,k in enumerate(ks):\n",
    "            for i in range(1000):\n",
    "                uniform_result[dataset] [j,seed,i] = (len(np.unique(sorted_uniform[:i,-k:])))\n",
    "    axs[plt_i].plot(uniform_result[dataset].mean(axis=1).T/datasize*100)\n",
    "    axs[plt_i].set_title(dataset)"
   ]
  },
  {
   "cell_type": "markdown",
   "metadata": {},
   "source": [
    "### Marginal"
   ]
  },
  {
   "cell_type": "code",
   "execution_count": 65,
   "metadata": {
    "collapsed": true
   },
   "outputs": [],
   "source": [
    "marignal_infls = {}"
   ]
  },
  {
   "cell_type": "code",
   "execution_count": 66,
   "metadata": {},
   "outputs": [
    {
     "name": "stdout",
     "output_type": "stream",
     "text": [
      "adult\n",
      "0, 1, 2, 3, 4, 5, 6, 7, 8, 9, hospital\n",
      "0, 1, 2, 3, 4, 5, 6, 7, 8, 9, fishdog\n",
      "0, 1, 2, 3, 4, 5, 6, 7, 8, 9, "
     ]
    }
   ],
   "source": [
    "for dataset in datasets: \n",
    "    print(dataset)\n",
    "    data_size = sizes[dataset]\n",
    "    marignal_infls[dataset] = []\n",
    "    for seed in range(10):\n",
    "        print(seed, end=\", \")\n",
    "        train_dataset, test_dataset = get_dataset(dataset, seed=seed, size=data_size, categorical=False)\n",
    "        n = len(train_dataset.x[0])\n",
    "        loo_models = []\n",
    "        for i in range(data_size):\n",
    "            loo_models.append(pickle.load(open(path.format(dataset,model_type,seed,i),\"rb\")))\n",
    "        org_model = pickle.load(open(path.format(dataset,model_type,seed,-1),\"rb\"))\n",
    "        y = np.zeros([1000,n])\n",
    "        for index in range(n):\n",
    "            marignals = np.random.randint(0,len(original_datasets[dataset]),size=len(y))\n",
    "            y[:,index] = original_datasets[dataset][:,index][marignals]\n",
    "        org_predict = org_model.predict_proba(y)[:,0]\n",
    "        loo_predict = []\n",
    "        for i in range(len(loo_models)):\n",
    "            loo_predict.append(loo_models[i].predict_proba(y)[:,0])\n",
    "        loo_predict = np.asarray(loo_predict).T\n",
    "        marignal_infls[dataset].append(loo_predict - org_predict.repeat(len(loo_models)).reshape([len(y), len(loo_models)]))\n",
    "    print(\"\")"
   ]
  },
  {
   "cell_type": "code",
   "execution_count": 68,
   "metadata": {},
   "outputs": [
    {
     "data": {
      "image/png": "[encoded data removed]",
      "text/plain": [
       "<Figure size 1440x360 with 3 Axes>"
      ]
     },
     "metadata": {
      "needs_background": "light"
     },
     "output_type": "display_data"
    }
   ],
   "source": [
    "fig, axs = plt.subplots(1,len(datasets),figsize=(20,5))\n",
    "marginal_result = {}\n",
    "for plt_i,dataset in enumerate(datasets):\n",
    "    datasize = sizes[dataset]\n",
    "    marginal_result[dataset] = np.zeros([len(ks),10,1000])\n",
    "    for seed in range(10):\n",
    "        sorted_marginal = np.argsort(np.abs(marignal_infls[dataset][seed]),axis=1)\n",
    "        for j,k in enumerate(ks):\n",
    "            for i in range(1000):\n",
    "                marginal_result[dataset][j,seed,i] = (len(np.unique(sorted_marginal[:i,-k:])))\n",
    "    axs[plt_i].plot(marginal_result[dataset].mean(axis=1).T/datasize*100)\n",
    "    axs[plt_i].set_title(dataset)"
   ]
  },
  {
   "cell_type": "markdown",
   "metadata": {},
   "source": [
    "### Actual"
   ]
  },
  {
   "cell_type": "code",
   "execution_count": 77,
   "metadata": {
    "collapsed": true
   },
   "outputs": [],
   "source": [
    "actual_infls = {}"
   ]
  },
  {
   "cell_type": "code",
   "execution_count": 78,
   "metadata": {},
   "outputs": [
    {
     "name": "stdout",
     "output_type": "stream",
     "text": [
      "adult\n",
      "0, 1, 2, 3, 4, 5, 6, 7, 8, 9, \n",
      "hospital\n",
      "0, 1, 2, 3, 4, 5, 6, 7, 8, 9, \n",
      "fishdog\n",
      "0, 1, 2, 3, 4, 5, 6, 7, 8, 9, \n"
     ]
    }
   ],
   "source": [
    "for dataset in datasets: \n",
    "    print(dataset)\n",
    "    data_size = sizes[dataset]\n",
    "    actual_infls[dataset] = []\n",
    "    for seed in range(10):\n",
    "        print(seed, end=\", \")\n",
    "        train_dataset, test_dataset = get_dataset(dataset, seed=seed, size=data_size, categorical=False)\n",
    "        n = len(train_dataset.x[0])\n",
    "        loo_models = []\n",
    "        for i in range(data_size):\n",
    "            loo_models.append(pickle.load(open(path.format(dataset,model_type,seed,i),\"rb\")))\n",
    "        org_model = pickle.load(open(path.format(dataset,model_type,seed,-1),\"rb\"))\n",
    "        \n",
    "        points = np.random.randint(0,len(original_datasets[dataset]),size=1000)\n",
    "        y = original_datasets[dataset][points]\n",
    "        org_predict = org_model.predict_proba(y)[:,0]\n",
    "        loo_predict = []\n",
    "        for i in range(len(loo_models)):\n",
    "            loo_predict.append(loo_models[i].predict_proba(y)[:,0])\n",
    "        loo_predict = np.asarray(loo_predict).T\n",
    "        actual_infls[dataset].append(loo_predict - org_predict.repeat(len(loo_models)).reshape([len(y), len(loo_models)]))\n",
    "    print()"
   ]
  },
  {
   "cell_type": "code",
   "execution_count": 79,
   "metadata": {},
   "outputs": [
    {
     "data": {
      "image/png": "[encoded data removed]",
      "text/plain": [
       "<Figure size 1440x360 with 3 Axes>"
      ]
     },
     "metadata": {
      "needs_background": "light"
     },
     "output_type": "display_data"
    }
   ],
   "source": [
    "fig, axs = plt.subplots(1,len(datasets),figsize=(20,5))\n",
    "actual_result ={}\n",
    "for plt_i,dataset in enumerate(datasets):\n",
    "    actual_result[dataset] = np.zeros([len(ks),10,1000])\n",
    "    datasize = sizes[dataset]\n",
    "    for seed in range(10):\n",
    "        sorted_actual = np.argsort(np.abs(actual_infls[dataset][seed]),axis=1)\n",
    "        for j,k in enumerate(ks):\n",
    "            for i in range(1000):\n",
    "                actual_result[dataset][j,seed,i] = (len(np.unique(sorted_actual[:i,-k:])))\n",
    "    axs[plt_i].plot(actual_result[dataset].mean(axis=1).T/datasize*100)\n",
    "    axs[plt_i].set_title(dataset)"
   ]
  },
  {
   "cell_type": "code",
   "execution_count": null,
   "metadata": {
    "collapsed": true
   },
   "outputs": [],
   "source": [
    "'''\n",
    "df = pd.DataFrame()\n",
    "for dataset in datasets:\n",
    "    datasize = data_sizes[dataset]\n",
    "    for i,k in enumerate(ks):\n",
    "        df[\"{}_{}_{}\".format(dataset,\"uniform\",k)] = (uniform_result[dataset].mean(axis=1)/datasize*100)[i]\n",
    "        df[\"{}_{}_{}\".format(dataset,\"marginal\",k)] = (marginal_result[dataset].mean(axis=1)/datasize*100)[i]\n",
    "        df[\"{}_{}_{}\".format(dataset,\"actual\",k)] = (actual_result[dataset].mean(axis=1)/datasize*100)[i]\n",
    "df['x'] = np.arange(len(df))\n",
    "df.to_csv(\"Notebooks/Latex_files/record/reconstruction/base_attacks.csv\",index=False,sep=\"\\t\")\n",
    "'''"
   ]
  },
  {
   "cell_type": "markdown",
   "metadata": {},
   "source": [
    "## Table 4 & Figure 10"
   ]
  },
  {
   "cell_type": "code",
   "execution_count": 82,
   "metadata": {
    "collapsed": true
   },
   "outputs": [],
   "source": [
    "def create_Graph(edges,k): \n",
    "    num_points = len(edges)\n",
    "    W = nx.DiGraph()\n",
    "    for i in range(num_points):\n",
    "        for j in range(num_points):\n",
    "            if(edges[i,j] <= 5):\n",
    "                W.add_edge(i,j)\n",
    "    return W"
   ]
  },
  {
   "cell_type": "markdown",
   "metadata": {},
   "source": [
    "### Table 4"
   ]
  },
  {
   "cell_type": "code",
   "execution_count": 83,
   "metadata": {
    "collapsed": true
   },
   "outputs": [],
   "source": [
    "def SCCsInlfuence(influence,k=5):    \n",
    "    W = create_Graph(create_edges(influence),k)\n",
    "    lenSCCs =  [len(scc) for scc in nx.strongly_connected_components(W)]\n",
    "    return Counter(lenSCCs)"
   ]
  },
  {
   "cell_type": "code",
   "execution_count": 89,
   "metadata": {
    "collapsed": true
   },
   "outputs": [],
   "source": [
    "def maxInDegree(influence,k=5):    \n",
    "    W = create_Graph(create_edges(influence),k)\n",
    "    return max([j for (i,j) in W.in_degree()])"
   ]
  },
  {
   "cell_type": "code",
   "execution_count": 90,
   "metadata": {
    "collapsed": true
   },
   "outputs": [],
   "source": [
    "def numZeroInDegree(influence,k=5):    \n",
    "    W = create_Graph(create_edges(influence),k)\n",
    "    return (np.asarray([j for (i,j) in W.in_degree]) <1).sum()"
   ]
  },
  {
   "cell_type": "code",
   "execution_count": 88,
   "metadata": {},
   "outputs": [
    {
     "name": "stdout",
     "output_type": "stream",
     "text": [
      "adult\n",
      "hospital\n",
      "fishdog\n"
     ]
    }
   ],
   "source": [
    "sccs_lists = {}\n",
    "for dataset in datasets:\n",
    "    print(dataset)\n",
    "    sccs_lists[dataset] = []\n",
    "    for infl in influences[dataset]:\n",
    "        sccs_lists[dataset].append(SCCsInlfuence(infl))"
   ]
  },
  {
   "cell_type": "code",
   "execution_count": 92,
   "metadata": {},
   "outputs": [
    {
     "name": "stdout",
     "output_type": "stream",
     "text": [
      "\t \t \t& adult & hospital & fishdog  \\\\\n",
      "\\#SCC \t \t \t& 1742\t& 1448\t& 1709\t \\\\\n",
      "\\#SCC of size 1 \t& 1701 \t& 1333 \t& 1679 \t \\\\\n",
      "Largest SCC size \t& 167 \t& 228 \t& 50 \t \\\\\n",
      "Max in-degree \t& 391 \t& 287 \t& 1069 \t \\\\\n",
      "\\#node in-degree=0 \t& 1568 \t& 727 \t& 1364 \t \\\\\n"
     ]
    }
   ],
   "source": [
    "print(\"\\t \\t \\t\" , end=\"\")\n",
    "for dataset in datasets: \n",
    "    print(\"& {} \".format(dataset), end=\"\") \n",
    "print(\" \\\\\\\\\")  \n",
    "print(\"\\#SCC \\t \\t \\t\" , end=\"\")\n",
    "for dataset in datasets:  \n",
    "    print(\"& {:.0f}\\t\".format(np.mean( [np.sum([ i for i in count.values()]) for count in sccs_lists[dataset]])) ,end=\"\")\n",
    "print(\" \\\\\\\\\")\n",
    "print(\"\\#SCC of size 1 \\t\" , end=\"\")\n",
    "for dataset in datasets:  \n",
    "    print(\"& {:.0f} \\t\".format(np.mean( [count[1] for count in sccs_lists[dataset]])) ,end=\"\")\n",
    "print(\" \\\\\\\\\")\n",
    "print(\"Largest SCC size \\t\" , end=\"\")\n",
    "for dataset in datasets:  \n",
    "    print(\"& {:.0f} \\t\".format(np.mean( [max(count.keys()) for count in sccs_lists[dataset]])) ,end=\"\")\n",
    "print(\" \\\\\\\\\")\n",
    "print(\"Max in-degree \\t\" , end=\"\")\n",
    "for dataset in datasets:\n",
    "    print(\"& {:.0f} \\t\".format(np.mean([maxInDegree(influence) for influence in influences[dataset]])) ,end=\"\")\n",
    "print(\" \\\\\\\\\")\n",
    "print(\"\\#node in-degree=0 \\t\" , end=\"\")\n",
    "for dataset in datasets:\n",
    "    print(\"& {:.0f} \\t\".format(np.mean([numZeroInDegree(influence) for influence in influences[dataset]])) ,end=\"\")\n",
    "print(\" \\\\\\\\\")"
   ]
  },
  {
   "cell_type": "markdown",
   "metadata": {},
   "source": [
    "### Figure 10"
   ]
  },
  {
   "cell_type": "code",
   "execution_count": 96,
   "metadata": {
    "collapsed": true
   },
   "outputs": [],
   "source": [
    "'''\n",
    "This functions takes a graph W and a starting point in the graph start and explores the graph randomly for maxIt=1000 steps \n",
    "by randomly (without repetition)obtaining the neighbours of a already discovered point.\n",
    "'''\n",
    "def randomlyExploreGraph(W,start,maxIt=1000):\n",
    "    unexplored = set([n for n in W.neighbors(start)])\n",
    "    explored = set()\n",
    "    found  = set()\n",
    "    it = 0;\n",
    "    numberFound = []\n",
    "    while len(unexplored) > 0 and it<maxIt:\n",
    "        found = found.union(unexplored)\n",
    "        numberFound.append(len(found))\n",
    "        it += 1\n",
    "        k = random.sample(unexplored,1)[0]\n",
    "        unexplored.remove(k)\n",
    "        explored.add(k)\n",
    "        newcandidates = set([n for n in W.neighbors(k)])\n",
    "        unexplored = unexplored.union(newcandidates.difference(found))\n",
    "    return(numberFound)"
   ]
  },
  {
   "cell_type": "code",
   "execution_count": 99,
   "metadata": {},
   "outputs": [
    {
     "name": "stdout",
     "output_type": "stream",
     "text": [
      "adult\n",
      "0 1 2 3 4 5 6 7 8 9 \n",
      "hospital\n",
      "0 1 2 3 4 5 6 7 8 9 \n",
      "fishdog\n",
      "0 1 2 3 4 5 6 7 8 9 \n"
     ]
    }
   ],
   "source": [
    "size_recoverd = {}\n",
    "for dataset in datasets:\n",
    "    print(dataset)\n",
    "    size_recoverd[dataset] = []\n",
    "    for seed in range(10):\n",
    "        l = []\n",
    "        data_size = sizes[dataset]\n",
    "        print(seed, end = \" \")\n",
    "        W = create_Graph(create_edges(influences[dataset][seed]),k=5)\n",
    "        for i in range(data_size):\n",
    "            l.append(randomlyExploreGraph(W,i,maxIt=1000)[-1])\n",
    "        size_recoverd[dataset].append(l)\n",
    "    print(\"\")"
   ]
  },
  {
   "cell_type": "code",
   "execution_count": 122,
   "metadata": {},
   "outputs": [
    {
     "data": {
      "image/png": "[encoded data removed]",
      "text/plain": [
       "<Figure size 432x288 with 1 Axes>"
      ]
     },
     "metadata": {
      "needs_background": "light"
     },
     "output_type": "display_data"
    }
   ],
   "source": [
    "bucket_size = 10\n",
    "df = pd.DataFrame()\n",
    "bucket_borders = np.asarray(range(0,600+bucket_size,bucket_size))\n",
    "for i, dataset in enumerate(datasets):\n",
    "    data_size = sizes[dataset]\n",
    "    df['x_{}'.format(dataset)] = bucket_borders /data_size*100\n",
    "    buckets =[]\n",
    "    for j in range(10):\n",
    "        l = size_recoverd[dataset][j]\n",
    "        buckets.append([ np.logical_and(np.asarray(l) > bucket-bucket_size ,\n",
    "                                   np.asarray(l) < bucket).sum() \n",
    "                   for bucket in bucket_borders])\n",
    "    buckets = np.asarray(buckets)\n",
    "    df[dataset] = buckets.mean(axis=0) /data_size\n",
    "    plt.step(df['x_{}'.format(dataset)], df[dataset])\n",
    "plt.xlim([0,30])\n",
    "plt.xlabel(\"% dataset recoverd\")\n",
    "plt.ylabel(\"Probabilty of discovery\");"
   ]
  },
  {
   "cell_type": "code",
   "execution_count": 123,
   "metadata": {
    "collapsed": true
   },
   "outputs": [],
   "source": [
    "#df.to_csv(\"Notebooks/Latex_files/record/reconstruction/graph_attacks.csv\",sep=\"\\t\",index=False)"
   ]
  },
  {
   "cell_type": "markdown",
   "metadata": {},
   "source": [
    "### Comparing the number of queries with greedy"
   ]
  },
  {
   "cell_type": "code",
   "execution_count": 124,
   "metadata": {
    "collapsed": true
   },
   "outputs": [],
   "source": [
    "def findUpperBoundOnMinNumQuerriesGreedy(W,startingPoint):\n",
    "    queries = []\n",
    "    found = set() \n",
    "    found.add(startingPoint)\n",
    "    [found.add(n) for n in W.neighbors(startingPoint)]\n",
    "    for k in [n for n in nx.bfs_edges(W,startingPoint)]:\n",
    "        found = found.union([n for n in W.neighbors(k[1])])\n",
    "    availablePointGraph = W.subgraph(found)\n",
    "    foundHeuristic = set()\n",
    "    foundHeuristic.add(startingPoint) \n",
    "    [foundHeuristic.add(n) for n in availablePointGraph.neighbors(startingPoint)]\n",
    "    #Greedily find the remaining nodes\n",
    "    while len(availablePointGraph) > len(foundHeuristic):\n",
    "        new_points = 0\n",
    "        for k in foundHeuristic:\n",
    "            neighbors = set([n for n in availablePointGraph.neighbors(k)] )\n",
    "            if len(neighbors) - len(neighbors.intersection(foundHeuristic)) > new_points:\n",
    "                n = k\n",
    "                new_points = len(neighbors) - len(neighbors.intersection(foundHeuristic))\n",
    "        if new_points == 0:\n",
    "             raise\n",
    "        [foundHeuristic.add(k) for k in availablePointGraph.neighbors(n)]\n",
    "        queries.append(n) \n",
    "    return queries,len(availablePointGraph) "
   ]
  },
  {
   "cell_type": "code",
   "execution_count": 126,
   "metadata": {
    "collapsed": true
   },
   "outputs": [],
   "source": [
    "list_recoverd = {}\n",
    "greedy_recovered = {}"
   ]
  },
  {
   "cell_type": "code",
   "execution_count": null,
   "metadata": {},
   "outputs": [],
   "source": [
    "# WARNING: This takes a while\n",
    "for dataset in datasets:\n",
    "    print(dataset)\n",
    "    list_recoverd[dataset] = []\n",
    "    greedy_recovered[dataset] = []\n",
    "    for seed in range(10):\n",
    "        l = []\n",
    "        l2 = []\n",
    "        data_size = sizes[dataset]\n",
    "        print(seed)\n",
    "        W = create_Graph(create_edges(influences[dataset][seed]),k=5)\n",
    "        for i in range(data_size):\n",
    "            l.append(randomlyExploreGraph(W,i,maxIt=1000))\n",
    "            l2.append(findUpperBoundOnMinNumQuerriesGreedy(W,i))\n",
    "        list_recoverd[dataset].append(l)\n",
    "        greedy_recovered[dataset].append(l2)\n",
    "    print(\"\")"
   ]
  },
  {
   "cell_type": "code",
   "execution_count": null,
   "metadata": {
    "collapsed": true
   },
   "outputs": [],
   "source": [
    "for dataset in datasets:\n",
    "    hm, hm1 = [], []\n",
    "    for (l1,l2) in zip(greedy_recovered[dataset],list_recoverd[dataset]):\n",
    "        for i,j in zip(l1,l2):\n",
    "            hm.append(len(i[0])/len(j))\n",
    "            hm1.append(i[1]/(len(j)+1))\n",
    "    print(dataset, np.asarray(hm).mean(),np.asarray(hm1).mean())"
   ]
  },
  {
   "cell_type": "markdown",
   "metadata": {},
   "source": [
    "# Appendix"
   ]
  },
  {
   "cell_type": "markdown",
   "metadata": {},
   "source": [
    "## Figure 11"
   ]
  },
  {
   "cell_type": "markdown",
   "metadata": {},
   "source": [
    "Latex illustration"
   ]
  },
  {
   "cell_type": "markdown",
   "metadata": {},
   "source": [
    "## Figure 12"
   ]
  },
  {
   "cell_type": "code",
   "execution_count": null,
   "metadata": {
    "collapsed": true
   },
   "outputs": [],
   "source": [
    "explanations = [\"deep_lift\",\"guided_backprop\",\"integrated_gradients\", \"lrp.epsilon\", \"smoothgrad\", \"gradient\"]\n",
    "path = \"../attack_output/purchase_other_explanations/{}/{}.csv\""
   ]
  },
  {
   "cell_type": "code",
   "execution_count": null,
   "metadata": {
    "collapsed": true
   },
   "outputs": [],
   "source": [
    "data = {}\n",
    "for explanation in explanations: \n",
    "    print(explanation)\n",
    "    data[explanation] = pd.read_csv(path.format(explanation,'result'))"
   ]
  },
  {
   "cell_type": "code",
   "execution_count": null,
   "metadata": {
    "collapsed": true
   },
   "outputs": [],
   "source": [
    "for i,explanation in enumerate(explanations): \n",
    "    x = np.asarray(data[explanation].target_train_acc - data[explanation].target_test_acc)[:,None]\n",
    "    y = data[explanation].attack_test_acc\n",
    "    plt.scatter(x,y,label=explanation,alpha=0.5,s=2)\n",
    "    reg = LinearRegression().fit(x,y)\n",
    "    plt.plot(x,reg.predict(x))\n",
    "    plt.xlim([0,0.25])\n",
    "    plt.ylim([0.48,0.65])\n",
    "plt.legend();"
   ]
  },
  {
   "cell_type": "code",
   "execution_count": null,
   "metadata": {
    "collapsed": true
   },
   "outputs": [],
   "source": [
    "'''\n",
    "data = {}\n",
    "for explanation in explanations: \n",
    "    data[explanation] = pd.read_csv(path.format(explanation,'result'))\n",
    "    x = np.asarray(data[explanation].target_train_acc - data[explanation].target_test_acc)[:,None]\n",
    "    y = data[explanation].attack_test_acc\n",
    "    data[explanation][\"overfitting\"] = x\n",
    "    reg = LinearRegression().fit(x,y)\n",
    "    data[explanation][\"reg\"] = reg.predict(x)\n",
    "\n",
    "    data[explanation].to_csv(\"{}/other_explanations/{}.csv\".format(latex_path,explanation),sep=\"\\t\",index=False);\n",
    "'''"
   ]
  },
  {
   "cell_type": "markdown",
   "metadata": {},
   "source": [
    "## Figure 13"
   ]
  },
  {
   "cell_type": "code",
   "execution_count": 140,
   "metadata": {
    "collapsed": true
   },
   "outputs": [],
   "source": [
    " X,y = make_classification(n_samples=1000,n_features=200,n_informative=3,n_redundant=0,n_repeated=0,n_classes=2,n_clusters_per_class=1,random_state=15,shuffle=False)"
   ]
  },
  {
   "cell_type": "code",
   "execution_count": 141,
   "metadata": {},
   "outputs": [
    {
     "data": {
      "image/png": "[encoded data removed]",
      "text/plain": [
       "<Figure size 432x288 with 1 Axes>"
      ]
     },
     "metadata": {
      "needs_background": "light"
     },
     "output_type": "display_data"
    }
   ],
   "source": [
    "import matplotlib.pyplot as plt\n",
    "from mpl_toolkits.mplot3d import Axes3D\n",
    "from mpl_toolkits.mplot3d.art3d import Poly3DCollection \n",
    "fig = plt.figure()\n",
    "\n",
    "ax = fig.add_subplot(111, projection='3d')\n",
    "ax.scatter(X[:,0],X[:,1],X[:,2],c=y);"
   ]
  },
  {
   "cell_type": "markdown",
   "metadata": {},
   "source": [
    "## Figure 14 "
   ]
  },
  {
   "cell_type": "markdown",
   "metadata": {},
   "source": [
    "See Figure 5"
   ]
  },
  {
   "cell_type": "markdown",
   "metadata": {},
   "source": [
    "## Figure 15"
   ]
  },
  {
   "cell_type": "code",
   "execution_count": 143,
   "metadata": {
    "collapsed": true
   },
   "outputs": [],
   "source": [
    "experiment_name = \"increasing_dataset_size\"\n",
    "seed =0 \n",
    "datasets = [\"adult\",\"hospital\"]"
   ]
  },
  {
   "cell_type": "code",
   "execution_count": 168,
   "metadata": {
    "collapsed": true
   },
   "outputs": [],
   "source": [
    "sizes = [50,100,200,500, 1000] #,2000,5000,10000]"
   ]
  },
  {
   "cell_type": "code",
   "execution_count": 169,
   "metadata": {},
   "outputs": [
    {
     "name": "stdout",
     "output_type": "stream",
     "text": [
      "adult\n",
      "50, 100, 200, 500, 1000, \n",
      "hospital\n",
      "50, 100, 200, 500, 1000, \n"
     ]
    }
   ],
   "source": [
    "size_influences = {}\n",
    "for dataset in datasets:\n",
    "    print(dataset)\n",
    "    size_influences[dataset] = []\n",
    "    for size in sizes:\n",
    "        print(size, end=\", \")\n",
    "        train_dataset, test_dataset = get_dataset(dataset, seed=seed, size=size, categorical=False)\n",
    "        loo_models = []\n",
    "        for i in range(size):\n",
    "            loo_models.append(pickle.load(open(path.format(dataset,\"increasing\",size,i),\"rb\")))\n",
    "        org_model = pickle.load(open(path.format(dataset,\"increasing\",size,-1),\"rb\"))\n",
    "        y = train_dataset.x\n",
    "        org_predict = org_model.predict_proba(y)[:,0]\n",
    "        loo_predict = []\n",
    "        for i in range(len(loo_models)):\n",
    "            loo_predict.append(loo_models[i].predict_proba(y)[:,0])\n",
    "        loo_predict = np.asarray(loo_predict).T\n",
    "        size_influences[dataset].append(loo_predict - org_predict.repeat(len(loo_models)).reshape([len(y), len(loo_models)]))\n",
    "    print(\"\")"
   ]
  },
  {
   "cell_type": "code",
   "execution_count": 170,
   "metadata": {},
   "outputs": [
    {
     "name": "stdout",
     "output_type": "stream",
     "text": [
      "adult\n",
      "50, 100, 200, 500, 1000, \n",
      "hospital\n",
      "50, 100, 200, 500, 1000, \n"
     ]
    }
   ],
   "source": [
    "size_positions = {}\n",
    "for dataset in datasets:\n",
    "    print(dataset)\n",
    "    size_positions[dataset] = []\n",
    "    for size_number in range(len(sizes)):\n",
    "        print(sizes[size_number], end=\", \")\n",
    "        size_positions[dataset].append(create_positions(create_edges(size_influences[dataset][size_number])))\n",
    "    print(\"\")"
   ]
  },
  {
   "cell_type": "code",
   "execution_count": 171,
   "metadata": {},
   "outputs": [
    {
     "data": {
      "image/png": "[encoded data removed]",
      "text/plain": [
       "<Figure size 1440x360 with 2 Axes>"
      ]
     },
     "metadata": {
      "needs_background": "light"
     },
     "output_type": "display_data"
    }
   ],
   "source": [
    "fig, axs = plt.subplots(1,len(datasets),figsize=(20,5))\n",
    "for i,dataset in enumerate(datasets):\n",
    "    ax =axs[i]\n",
    "    for k in [1,5,10]:\n",
    "        for size_number,size in enumerate(sizes):\n",
    "            ax.scatter(size,(size_positions[dataset][size_number] <= k).sum()/size*100,alpha=k/10.0,c=\"b\")\n",
    "            ax.set_ylim([0,100])"
   ]
  },
  {
   "cell_type": "code",
   "execution_count": null,
   "metadata": {
    "collapsed": true
   },
   "outputs": [],
   "source": [
    "'''\n",
    "df = pd.DataFrame()\n",
    "df[\"size\"] = sizes\n",
    "temp ={}\n",
    "for i,dataset in enumerate(datasets):\n",
    "    temp[dataset] = {}\n",
    "    for k in [1,5,10]:\n",
    "        temp[dataset][k] = []\n",
    "        for size_number,size in enumerate(sizes):\n",
    "            temp[dataset][k].append((positions[dataset][size_number] <= k).sum()/size*100)\n",
    "        df[\"{}_{}\".format(dataset, k)] = temp[dataset][k]\n",
    "df.to_csv(\"Latex_files/record/reconstruction/larger_size.csv\",sep=\"\\t\",index=False)\n",
    "'''"
   ]
  }
 ],
 "metadata": {
  "anaconda-cloud": {},
  "kernelspec": {
   "display_name": "Python 3",
   "language": "python",
   "name": "python3"
  },
  "language_info": {
   "codemirror_mode": {
    "name": "ipython",
    "version": 3
   },
   "file_extension": ".py",
   "mimetype": "text/x-python",
   "name": "python",
   "nbconvert_exporter": "python",
   "pygments_lexer": "ipython3",
   "version": "3.6.10"
  }
 },
 "nbformat": 4,
 "nbformat_minor": 1
}
