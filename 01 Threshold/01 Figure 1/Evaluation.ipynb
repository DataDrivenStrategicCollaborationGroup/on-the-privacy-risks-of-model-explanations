{
 "cells": [
  {
   "cell_type": "code",
   "execution_count": 1,
   "metadata": {},
   "outputs": [],
   "source": [
    "import numpy as np\n",
    "import pandas as pd\n",
    "import matplotlib.pyplot as plt\n",
    "import copy\n",
    "import time\n",
    "import pickle"
   ]
  },
  {
   "cell_type": "code",
   "execution_count": 2,
   "metadata": {},
   "outputs": [],
   "source": [
    "def comparison(threshold,train,test,information_type):\n",
    "    if information_type ==\"prediction_var\":\n",
    "        return ((train >= threshold).sum() + (test < threshold).sum()) / (len(train)+len(test)) \n",
    "    else:\n",
    "        return ((train <= threshold).sum() + (test > threshold).sum()) / (len(train)+len(test))\n",
    "\n",
    "def read_model(path,model_number, information_type,cifar=False):\n",
    "    if not cifar:\n",
    "        df = pd.read_csv(\"{}/{}.csv\".format(path,model_number),index_col=0)\n",
    "        train = df[\"train_{}\".format(information_type)]\n",
    "        test = df[\"test_{}\".format(information_type)]\n",
    "    else:\n",
    "        df = pd.read_csv(\"{}/{}_train.csv\".format(path,model_number),index_col=0)\n",
    "        train = df[\"train_{}\".format(information_type)]\n",
    "        train = train.head(10000)\n",
    "        df = pd.read_csv(\"{}/{}_test.csv\".format(path,model_number),index_col=0)\n",
    "        test = df[\"test_{}\".format(information_type)]\n",
    "    return train, test\n",
    "\n",
    "def evaluate_optimal_attack(path,model_number,information_type,cifar=False):\n",
    "    train, test = read_model(path,model_number, information_type,cifar)\n",
    "    optimal_acc = 0\n",
    "    optimal_threshold = np.nan\n",
    "    sort_train = np.sort(np.unique(train))\n",
    "    #We're not looking at every possible thrshold but only every 10th, \n",
    "    #that speeds up computation by 10 times and doesn't seem to have\n",
    "    #effect on the performance\n",
    "    for threshold_ind in range(0,len(sort_train),10):\n",
    "        threshold = sort_train[threshold_ind]\n",
    "        acc = comparison(threshold,train,test,information_type)\n",
    "        if acc>optimal_acc:\n",
    "            optimal_acc = acc\n",
    "            optimal_threshold = threshold\n",
    "    return optimal_acc, optimal_threshold\n",
    "\n",
    "def evaluate_k_shadow_attack(path,model_number,information_type,k,cifar=False,max_model_number=4):\n",
    "    if cifar: return np.nan,np.nan\n",
    "    thresholds = np.zeros(k)\n",
    "    for current_k in range(k):\n",
    "        _, thresholds[current_k] = evaluate_optimal_attack(path,(model_number+1+k)% max_model_number,information_type)\n",
    "    threshold = np.median(thresholds)\n",
    "    train, test = read_model(path,model_number, information_type,cifar=cifar)\n",
    "    acc = comparison(threshold,train,test,information_type)\n",
    "    return acc, threshold     \n",
    "\n",
    "def evaluate_attack(path,model_number,information_type,attack_type,cifar):\n",
    "    if attack_type == \"optimal\":\n",
    "        acc, threshold = evaluate_optimal_attack(path,model_number,information_type,cifar=cifar)\n",
    "    elif attack_type == \"shadow_1\":\n",
    "        acc, threshold = evaluate_k_shadow_attack(path,model_number,information_type,k=1,cifar=cifar,max_model_number=2)\n",
    "    elif attack_type == \"shadow_3\":\n",
    "        acc, threshold = evaluate_k_shadow_attack(path,model_number,information_type,k=3,cifar=cifar)\n",
    "    return acc, threshold"
   ]
  },
  {
   "cell_type": "code",
   "execution_count": 8,
   "metadata": {},
   "outputs": [],
   "source": [
    "def create_attack_dic(attack_types):\n",
    "    result = {}\n",
    "    for attack in attack_types:\n",
    "        result[attack] = []\n",
    "    return result"
   ]
  },
  {
   "cell_type": "code",
   "execution_count": 13,
   "metadata": {},
   "outputs": [],
   "source": [
    "cifars={\"purchase\":False, \"texas\":False, \"cifar-10\":False, \"cifar-100\":True, \"adult\":False, \"hospital\":False}\n",
    "experiment_numbers = {\"purchase\":np.arange(1),\n",
    "                      \"texas\":np.arange(1),\n",
    "                      \"cifar-10\":np.arange(1),\n",
    "                      \"adult\":np.arange(1),\n",
    "                      \"hospital\":np.arange(1),\n",
    "                     }\n",
    "#experiment_numbers = {\"purchase\":np.arange(25), \"texas\":np.arange(25), \"cifar-10\":np.arange(50), \"adult\":np.arange(25)}\n",
    "max_model_number = {\"purchase\":4, \"texas\":4, \"cifar-10\":2, \"cifar-100\":1, \"adult\":4, \"hospital\":4}\n",
    "experiment_names = [\"hospital\"] #\"purchase\", \"texas\", \"cifar-10\", \"cifar-100\", \"adult\", \"hospital\"]\n",
    "information_types = [\"loss\", \"prediction_var\", \"analysis_var\"]\n",
    "attack_types = {\"purchase\":['optimal',\"shadow_1\",\"shadow_3\"],\n",
    "                \"texas\":['optimal',\"shadow_1\",\"shadow_3\"],\n",
    "                \"cifar-10\":['optimal',\"shadow_1\"],\n",
    "                \"cifar-100\":['optimal'],\n",
    "                \"adult\":['optimal',\"shadow_1\",\"shadow_3\"],\n",
    "                \"adult\":['optimal']\n",
    "               }"
   ]
  },
  {
   "cell_type": "code",
   "execution_count": 14,
   "metadata": {},
   "outputs": [
    {
     "name": "stdout",
     "output_type": "stream",
     "text": [
      "adult 20.523303270339966\n",
      "loss\n",
      "optimal\t shadow_1\t shadow_3\t \n",
      "0.51\t0.50\t0.51\t\n",
      "prediction_var\n",
      "optimal\t shadow_1\t shadow_3\t \n",
      "0.51\t0.50\t0.51\t\n",
      "analysis_var\n",
      "optimal\t shadow_1\t shadow_3\t \n",
      "0.51\t0.50\t0.51\t\n",
      "\n",
      "CPU times: user 20.4 s, sys: 140 ms, total: 20.5 s\n",
      "Wall time: 20.5 s\n"
     ]
    }
   ],
   "source": [
    "%%time\n",
    "for ex in experiment_names:\n",
    "    model_numbers = np.arange(max_model_number[ex])\n",
    "    result_accs, result_thresholds = {},{}\n",
    "    for information_type in information_types:\n",
    "        result_accs[information_type] = create_attack_dic(attack_types[ex])\n",
    "        result_thresholds[information_type] = create_attack_dic(attack_types[ex])\n",
    "    print(ex, end=\" \")\n",
    "    counter = 0\n",
    "    start = time.time()\n",
    "    for experiment_number in experiment_numbers[ex]:\n",
    "        path=\"ThresholdExperiments/{}/{}/\".format(ex, experiment_number)\n",
    "        for model_number in model_numbers:\n",
    "            #print(counter, end= \" \")\n",
    "            counter += 1\n",
    "            for information_type in information_types:\n",
    "                for attack_type in attack_types[ex]:\n",
    "                    acc, threshold = evaluate_attack(path,model_number,information_type,attack_type,cifar=cifars[ex])\n",
    "                    result_accs[information_type][attack_type].append(acc)\n",
    "                    result_thresholds[information_type][attack_type].append(threshold)\n",
    "                #print(information_type, end=\" \")\n",
    "    print(time.time() - start) \n",
    "    pickle.dump(result_accs,open(ex+\"_accs\",\"bw\"))\n",
    "    pickle.dump(result_thresholds,open(ex+\"_thrs\",\"bw\"))\n",
    "    for information_type in information_types: \n",
    "        print(information_type)\n",
    "        for attack_type in attack_types[ex]:\n",
    "            print(\"{}\\t\".format(attack_type),end=\" \")\n",
    "        print(\"\")\n",
    "        for attack_type in attack_types[ex]:\n",
    "            print(\"{:.2f}\\t\".format(np.mean(result_accs[information_type][attack_type])),end=\"\")\n",
    "        print(\"\")\n",
    "    print(\"\")"
   ]
  },
  {
   "cell_type": "code",
   "execution_count": null,
   "metadata": {},
   "outputs": [],
   "source": []
  }
 ],
 "metadata": {
  "kernelspec": {
   "display_name": "Python 3",
   "language": "python",
   "name": "python3"
  },
  "language_info": {
   "codemirror_mode": {
    "name": "ipython",
    "version": 3
   },
   "file_extension": ".py",
   "mimetype": "text/x-python",
   "name": "python",
   "nbconvert_exporter": "python",
   "pygments_lexer": "ipython3",
   "version": "3.6.10"
  }
 },
 "nbformat": 4,
 "nbformat_minor": 4
}
