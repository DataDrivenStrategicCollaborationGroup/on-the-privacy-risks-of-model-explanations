{
 "cells": [
  {
   "cell_type": "markdown",
   "metadata": {},
   "source": [
    "# Purchase"
   ]
  },
  {
   "cell_type": "code",
   "execution_count": 1,
   "metadata": {},
   "outputs": [
    {
     "name": "stderr",
     "output_type": "stream",
     "text": [
      "Using TensorFlow backend.\n"
     ]
    }
   ],
   "source": [
    "from keras.layers import Dense, Dropout, Input, Conv2D, MaxPooling2D, Flatten\n",
    "from keras.models import Sequential, Model\n",
    "import keras\n",
    "import numpy as np\n",
    "from keras import optimizers\n",
    "from sklearn.model_selection import train_test_split\n",
    "from keras.callbacks import CSVLogger\n",
    "import tensorflow as tf\n",
    "import innvestigate\n",
    "import innvestigate.utils as iutils\n",
    "import pandas as pd\n",
    "import matplotlib.pyplot as plt\n",
    "import os\n",
    "import time"
   ]
  },
  {
   "cell_type": "code",
   "execution_count": 2,
   "metadata": {},
   "outputs": [
    {
     "name": "stdout",
     "output_type": "stream",
     "text": [
      "setGPU: Setting GPU to: 3\n"
     ]
    }
   ],
   "source": [
    "import setGPU"
   ]
  },
  {
   "cell_type": "code",
   "execution_count": 3,
   "metadata": {},
   "outputs": [],
   "source": [
    "sess = tf.InteractiveSession()"
   ]
  },
  {
   "cell_type": "code",
   "execution_count": 4,
   "metadata": {},
   "outputs": [],
   "source": [
    "random_state = 42"
   ]
  },
  {
   "cell_type": "code",
   "execution_count": null,
   "metadata": {},
   "outputs": [],
   "source": [
    "path_to_data = r'' + '../data/'"
   ]
  },
  {
   "cell_type": "markdown",
   "metadata": {},
   "source": [
    "### 1 Loading purchase"
   ]
  },
  {
   "cell_type": "code",
   "execution_count": 5,
   "metadata": {},
   "outputs": [],
   "source": [
    "def load_purchase(path_to_data, random_state):\n",
    "    data = pd.read_csv( path_to_data + 'purchase/purchase.csv', header=None)\n",
    "    y_temp = np.asarray(data[0]) - 1\n",
    "    X_temp = np.asarray(data)[:, 1:]\n",
    "    np.random.seed(random_state)\n",
    "    main_indicies = np.random.choice(len(X_temp),len(X_temp))\n",
    "    X_temp,y_temp = X_temp[main_indicies], y_temp[main_indicies]\n",
    "    y_temp =  keras.utils.to_categorical(y_temp, 100)\n",
    "    return X_temp,y_temp"
   ]
  },
  {
   "cell_type": "code",
   "execution_count": 6,
   "metadata": {},
   "outputs": [],
   "source": [
    "X_temp, y_temp = load_purchase(path_to_data, random_state)"
   ]
  },
  {
   "cell_type": "markdown",
   "metadata": {},
   "source": [
    "### Training the models"
   ]
  },
  {
   "cell_type": "code",
   "execution_count": 9,
   "metadata": {},
   "outputs": [],
   "source": [
    "def create_purchase_base():\n",
    "    model = Sequential()\n",
    "    model.add(Dense(1024, activation='tanh', name='base_dense_1',\n",
    "                    kernel_initializer=keras.initializers.RandomNormal(mean=0.0, stddev=0.01, seed=None),\n",
    "                    bias_initializer='zeros'))\n",
    "    model.add(Dropout(0, name='dropout_1'))\n",
    "    model.add(Dense(512, activation='tanh', name='base_dense_2',\n",
    "                    kernel_initializer=keras.initializers.RandomNormal(mean=0.0, stddev=0.01, seed=None),\n",
    "                    bias_initializer='zeros'))\n",
    "    model.add(Dropout(0, name='dropout_2'))\n",
    "    model.add(Dense(256, activation='tanh', name='base_dense_3',\n",
    "                    kernel_initializer=keras.initializers.RandomNormal(mean=0.0, stddev=0.01, seed=None),\n",
    "                    bias_initializer='zeros'))\n",
    "    model.add(Dropout(0, name='dropout_3'))\n",
    "    model.add(Dense(100, activation='softmax', name='base_dense_4',\n",
    "                    kernel_initializer=keras.initializers.RandomNormal(mean=0.0, stddev=0.01, seed=None),\n",
    "                    bias_initializer='zeros'))\n",
    "    return model"
   ]
  },
  {
   "cell_type": "code",
   "execution_count": 10,
   "metadata": {},
   "outputs": [],
   "source": [
    "def evaluate_model(model,X,y,explanation=\"gradient\",batch_size=256):\n",
    "    prediction = model.predict(X)\n",
    "    loss = keras.losses.categorical_crossentropy(tf.convert_to_tensor(prediction),tf.convert_to_tensor(y))\n",
    "    with sess.as_default():\n",
    "        loss = loss.eval()\n",
    "    try:\n",
    "    # noinspection PyUnresolvedReferences\n",
    "        model_wo_softmax = iutils.keras.graph.model_wo_softmax(model)\n",
    "    except Exception:\n",
    "        model_wo_softmax = model\n",
    "    analyzer = innvestigate.create_analyzer(explanation, model_wo_softmax)\n",
    "    analysis = np.zeros(X.shape)\n",
    "    for batch in range(0,len(X),batch_size):\n",
    "        analysis[batch:batch+batch_size] = analyzer.analyze(X[batch:batch+batch_size])\n",
    "    prediction_var = np.var(prediction,axis=1)\n",
    "    analysis_var = np.var(analysis,axis=1)\n",
    "    analysis_1 = np.linalg.norm(analysis,axis=1,ord=1)\n",
    "    analysis_2 = np.linalg.norm(analysis,axis=1,ord=2)\n",
    "    return loss, prediction_var, analysis_var, analysis_1, analysis_2"
   ]
  },
  {
   "cell_type": "code",
   "execution_count": 11,
   "metadata": {},
   "outputs": [],
   "source": [
    "lr = 0.01\n",
    "decay = 1e-7\n",
    "epochs = 50\n",
    "points_per_model = 10000\n",
    "verbose = 0\n",
    "experiment_name = \"purchase\"\n",
    "explanation = \"gradient\"\n",
    "path=\"ThresholdExperiments/{}/{}\".format(experiment_name,random_state)"
   ]
  },
  {
   "cell_type": "code",
   "execution_count": 12,
   "metadata": {},
   "outputs": [
    {
     "name": "stdout",
     "output_type": "stream",
     "text": [
      "0\n",
      "######\n",
      "0 WARNING:tensorflow:From /home/martin/.local/lib/python3.6/site-packages/keras/backend/tensorflow_backend.py:74: The name tf.get_default_graph is deprecated. Please use tf.compat.v1.get_default_graph instead.\n",
      "\n",
      "WARNING:tensorflow:From /home/martin/.local/lib/python3.6/site-packages/keras/optimizers.py:790: The name tf.train.Optimizer is deprecated. Please use tf.compat.v1.train.Optimizer instead.\n",
      "\n",
      "WARNING:tensorflow:From /home/martin/.local/lib/python3.6/site-packages/keras/backend/tensorflow_backend.py:517: The name tf.placeholder is deprecated. Please use tf.compat.v1.placeholder instead.\n",
      "\n",
      "WARNING:tensorflow:From /home/martin/.local/lib/python3.6/site-packages/keras/backend/tensorflow_backend.py:4115: The name tf.random_normal is deprecated. Please use tf.random.normal instead.\n",
      "\n",
      "WARNING:tensorflow:From /home/martin/.local/lib/python3.6/site-packages/keras/backend/tensorflow_backend.py:3295: The name tf.log is deprecated. Please use tf.math.log instead.\n",
      "\n",
      "WARNING:tensorflow:From /home/martin/anaconda3/envs/PvsT/lib/python3.6/site-packages/tensorflow_core/python/ops/math_grad.py:1424: where (from tensorflow.python.ops.array_ops) is deprecated and will be removed in a future version.\n",
      "Instructions for updating:\n",
      "Use tf.where in 2.0, which has the same broadcast rule as np.where\n",
      "WARNING:tensorflow:From /home/martin/.local/lib/python3.6/site-packages/keras/backend/tensorflow_backend.py:986: The name tf.assign_add is deprecated. Please use tf.compat.v1.assign_add instead.\n",
      "\n",
      "WARNING:tensorflow:From /home/martin/.local/lib/python3.6/site-packages/keras/backend/tensorflow_backend.py:973: The name tf.assign is deprecated. Please use tf.compat.v1.assign instead.\n",
      "\n",
      "WARNING:tensorflow:From /home/martin/.local/lib/python3.6/site-packages/keras/backend/tensorflow_backend.py:2741: The name tf.Session is deprecated. Please use tf.compat.v1.Session instead.\n",
      "\n",
      "WARNING:tensorflow:From /home/martin/.local/lib/python3.6/site-packages/keras/backend/tensorflow_backend.py:174: The name tf.get_default_session is deprecated. Please use tf.compat.v1.get_default_session instead.\n",
      "\n",
      "WARNING:tensorflow:From /home/martin/.local/lib/python3.6/site-packages/keras/backend/tensorflow_backend.py:190: The name tf.global_variables is deprecated. Please use tf.compat.v1.global_variables instead.\n",
      "\n",
      "WARNING:tensorflow:From /home/martin/.local/lib/python3.6/site-packages/keras/backend/tensorflow_backend.py:199: The name tf.is_variable_initialized is deprecated. Please use tf.compat.v1.is_variable_initialized instead.\n",
      "\n",
      "WARNING:tensorflow:From /home/martin/.local/lib/python3.6/site-packages/keras/backend/tensorflow_backend.py:206: The name tf.variables_initializer is deprecated. Please use tf.compat.v1.variables_initializer instead.\n",
      "\n",
      "264.86496329307556\n",
      "1 531.407322883606\n",
      "2 791.8958508968353\n",
      "3 1055.013322353363\n",
      "1\n",
      "######\n",
      "0 264.85578441619873\n",
      "1 534.5079827308655\n",
      "2 803.3950140476227\n",
      "3 1071.0849211215973\n",
      "2\n",
      "######\n",
      "0 273.4599573612213\n",
      "1 544.3806841373444\n",
      "2 821.1845083236694\n",
      "3 1098.8703470230103\n",
      "3\n",
      "######\n",
      "0 279.0514659881592\n",
      "1 562.1477460861206\n",
      "2 843.5078458786011\n",
      "3 1128.3185486793518\n",
      "4\n",
      "######\n",
      "0 285.70936727523804\n",
      "1 572.138108253479\n",
      "2 862.7981421947479\n",
      "3 1153.1599979400635\n",
      "5\n",
      "######\n",
      "0 291.8705356121063\n",
      "1 588.4551448822021\n",
      "2 883.7961328029633\n",
      "3 1179.3569915294647\n",
      "6\n",
      "######\n",
      "0 295.40675258636475\n",
      "1 595.1987206935883\n",
      "2 896.6610219478607\n",
      "3 1203.599250793457\n",
      "7\n",
      "######\n",
      "0 304.3316469192505\n",
      "1 609.2097249031067\n",
      "2 917.3224594593048\n",
      "3 1226.952143907547\n",
      "8\n",
      "######\n",
      "0 312.31720423698425\n",
      "1 626.7852785587311\n",
      "2 946.9837181568146\n",
      "3 1261.5147466659546\n",
      "9\n",
      "######\n",
      "0 315.91748118400574\n",
      "1 638.2616555690765\n",
      "2 960.0516879558563\n",
      "3 1287.641746044159\n"
     ]
    }
   ],
   "source": [
    "for random_state in range(1):\n",
    "    print(random_state)\n",
    "    print(\"######\")\n",
    "    path=\"ThresholdExperiments/{}/{}/\".format(experiment_name,random_state)\n",
    "    os.makedirs(path)\n",
    "    np.random.seed(random_state)\n",
    "    main_indicies = np.random.choice(len(X_temp),len(X_temp),replace=False)\n",
    "    X,y = X_temp[main_indicies], y_temp[main_indicies]\n",
    "    start = time.time()\n",
    "    for model_number in range(np.floor(len(X)/(2*points_per_model)).astype(int)):\n",
    "        print(model_number, end=\" \")\n",
    "        start_train = 2*model_number*points_per_model\n",
    "        start_test = start_train+points_per_model\n",
    "        end_test = start_test+points_per_model\n",
    "        x_train, x_test =  X[start_train:start_test], X[start_test:end_test]\n",
    "        y_train, y_test =  y[start_train:start_test], y[start_test:end_test]\n",
    "        optimizer = optimizers.Adagrad(lr=lr, decay=decay)\n",
    "        model = create_purchase_base()\n",
    "        model.compile(loss='categorical_crossentropy', optimizer=optimizer, metrics=['accuracy'])\n",
    "        model.fit(x_train, y_train, epochs=epochs, \n",
    "              validation_data=(x_test, y_test), verbose=verbose)\n",
    "        train_loss, train_prediction_var, train_analysis_var, train_analysis_1, train_analysis_2 = evaluate_model(model,x_train,y_train,explanation=explanation)\n",
    "        df = pd.DataFrame()\n",
    "        df['train_loss'] = train_loss\n",
    "        df['train_prediction_var'] = train_prediction_var\n",
    "        df['train_analysis_var'] = train_analysis_var\n",
    "        df['train_analysis_1'] = train_analysis_1\n",
    "        df['train_analysis_2'] = train_analysis_2\n",
    "        test_loss, test_prediction_var, test_analysis_var, test_analysis_1, test_analysis_2 = evaluate_model(model,x_test,y_test,explanation=explanation)\n",
    "        df['test_loss'] = test_loss\n",
    "        df['test_prediction_var'] = test_prediction_var\n",
    "        df['test_analysis_var'] = test_analysis_var\n",
    "        df['test_analysis_1'] = test_analysis_1\n",
    "        df['test_analysis_2'] = test_analysis_2\n",
    "        df.to_csv(\"{}/{}.csv\".format(path,model_number))\n",
    "        print(time.time() - start)"
   ]
  },
  {
   "cell_type": "code",
   "execution_count": null,
   "metadata": {},
   "outputs": [],
   "source": []
  }
 ],
 "metadata": {
  "kernelspec": {
   "display_name": "Python 3",
   "language": "python",
   "name": "python3"
  },
  "language_info": {
   "codemirror_mode": {
    "name": "ipython",
    "version": 3
   },
   "file_extension": ".py",
   "mimetype": "text/x-python",
   "name": "python",
   "nbconvert_exporter": "python",
   "pygments_lexer": "ipython3",
   "version": "3.6.10"
  }
 },
 "nbformat": 4,
 "nbformat_minor": 4
}
