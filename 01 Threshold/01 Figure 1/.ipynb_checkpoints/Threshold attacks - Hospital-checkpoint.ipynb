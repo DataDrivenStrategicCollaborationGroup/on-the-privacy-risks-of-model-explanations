{
 "cells": [
  {
   "cell_type": "markdown",
   "metadata": {},
   "source": [
    "# Hospital"
   ]
  },
  {
   "cell_type": "code",
   "execution_count": 1,
   "metadata": {},
   "outputs": [
    {
     "name": "stderr",
     "output_type": "stream",
     "text": [
      "Using TensorFlow backend.\n"
     ]
    }
   ],
   "source": [
    "from keras.layers import Dense, Dropout, Input, Conv2D, MaxPooling2D, Flatten\n",
    "from keras.models import Sequential, Model\n",
    "import keras\n",
    "import numpy as np\n",
    "from keras import optimizers\n",
    "from sklearn.model_selection import train_test_split\n",
    "from keras.callbacks import CSVLogger\n",
    "import tensorflow as tf\n",
    "import innvestigate\n",
    "import innvestigate.utils as iutils\n",
    "import pandas as pd\n",
    "import matplotlib.pyplot as plt\n",
    "import os\n",
    "import time\n",
    "from collections import namedtuple"
   ]
  },
  {
   "cell_type": "code",
   "execution_count": 2,
   "metadata": {},
   "outputs": [
    {
     "name": "stdout",
     "output_type": "stream",
     "text": [
      "setGPU: Setting GPU to: 5\n"
     ]
    }
   ],
   "source": [
    "import setGPU"
   ]
  },
  {
   "cell_type": "code",
   "execution_count": 3,
   "metadata": {},
   "outputs": [],
   "source": [
    "sess = tf.InteractiveSession()"
   ]
  },
  {
   "cell_type": "code",
   "execution_count": 4,
   "metadata": {},
   "outputs": [],
   "source": [
    "random_state = 42"
   ]
  },
  {
   "cell_type": "code",
   "execution_count": 5,
   "metadata": {},
   "outputs": [],
   "source": [
    "path_to_data = r'' + '../data/'"
   ]
  },
  {
   "cell_type": "markdown",
   "metadata": {},
   "source": [
    "### 1 Loading hospital"
   ]
  },
  {
   "cell_type": "code",
   "execution_count": 6,
   "metadata": {},
   "outputs": [],
   "source": [
    "def loading_hospital(path_to_data, random_state):\n",
    "    df = pd.read_csv( path_to_data + \"/hospital/hospital\")\n",
    "\n",
    "    x = df.loc[:, ['time_in_hospital', 'num_lab_procedures', 'num_procedures', 'num_medications', 'number_outpatient',\n",
    "                   'number_emergency', 'number_inpatient', 'number_diagnoses']]\n",
    "\n",
    "    categorical_var_names = ['gender', 'race', 'age', 'discharge_disposition_id', 'max_glu_serum', 'A1Cresult',\n",
    "                             'metformin', 'repaglinide', 'nateglinide', 'chlorpropamide', 'glimepiride',\n",
    "                             'acetohexamide', 'glipizide', 'glyburide', 'tolbutamide', 'pioglitazone', 'rosiglitazone',\n",
    "                             'acarbose', 'miglitol', 'troglitazone', 'tolazamide', 'examide', 'citoglipton', 'insulin',\n",
    "                             'glyburide-metformin', 'glipizide-metformin', 'glimepiride-pioglitazone',\n",
    "                             'metformin-rosiglitazone', 'metformin-pioglitazone', 'change', 'diabetesMed']\n",
    "\n",
    "    for categorical_var_name in categorical_var_names:\n",
    "        categorical_var = pd.Categorical(\n",
    "            df.loc[:, categorical_var_name])\n",
    "        # Just have one dummy variable if it's boolean\n",
    "        if len(categorical_var.categories) == 2:\n",
    "            drop_first = True\n",
    "        else:\n",
    "            drop_first = False\n",
    "\n",
    "        dummies = pd.get_dummies(\n",
    "            categorical_var,\n",
    "            prefix=categorical_var_name,\n",
    "            drop_first=drop_first)\n",
    "\n",
    "        x = pd.concat([x, dummies], axis=1)\n",
    "\n",
    "    # Set the Y labels\n",
    "    readmitted = pd.Categorical(df.readmitted)\n",
    "    y = np.copy(readmitted.codes)\n",
    "    # Combine >30 and 0 and flip labels, so 1 (>30) and 2 (No) become 0, while 0 becomes 1\n",
    "    y[y >= 1] = -1\n",
    "    y[y == 0] = 1\n",
    "    X_temp, y_temp = x, y\n",
    "    y_temp =  keras.utils.to_categorical(y_temp, 2)\n",
    "    X_temp = np.asarray(X_temp)\n",
    "    return X_temp, y_temp"
   ]
  },
  {
   "cell_type": "code",
   "execution_count": 7,
   "metadata": {},
   "outputs": [],
   "source": [
    "def load_hospital():\n",
    "    df = pd.read_csv( '../data2' + \"/hospital/hospital\")\n",
    "\n",
    "    x = df.loc[:, ['time_in_hospital', 'num_lab_procedures', 'num_procedures', 'num_medications', 'number_outpatient',\n",
    "                   'number_emergency', 'number_inpatient', 'number_diagnoses']]\n",
    "\n",
    "    categorical_var_names = ['gender', 'race', 'age', 'discharge_disposition_id', 'max_glu_serum', 'A1Cresult',\n",
    "                             'metformin', 'repaglinide', 'nateglinide', 'chlorpropamide', 'glimepiride',\n",
    "                             'acetohexamide', 'glipizide', 'glyburide', 'tolbutamide', 'pioglitazone', 'rosiglitazone',\n",
    "                             'acarbose', 'miglitol', 'troglitazone', 'tolazamide', 'examide', 'citoglipton', 'insulin',\n",
    "                             'glyburide-metformin', 'glipizide-metformin', 'glimepiride-pioglitazone',\n",
    "                             'metformin-rosiglitazone', 'metformin-pioglitazone', 'change', 'diabetesMed']\n",
    "\n",
    "    for categorical_var_name in categorical_var_names:\n",
    "        categorical_var = pd.Categorical(\n",
    "            df.loc[:, categorical_var_name])\n",
    "        # Just have one dummy variable if it's boolean\n",
    "        if len(categorical_var.categories) == 2:\n",
    "            drop_first = True\n",
    "        else:\n",
    "            drop_first = False\n",
    "\n",
    "        dummies = pd.get_dummies(\n",
    "            categorical_var,\n",
    "            prefix=categorical_var_name,\n",
    "            drop_first=drop_first)\n",
    "\n",
    "        x = pd.concat([x, dummies], axis=1)\n",
    "\n",
    "    # Set the Y labels\n",
    "    readmitted = pd.Categorical(df.readmitted)\n",
    "    y = np.copy(readmitted.codes)\n",
    "    # Combine >30 and 0 and flip labels, so 1 (>30) and 2 (No) become 0, while 0 becomes 1\n",
    "    y[y >= 1] = -1\n",
    "    y[y == 0] = 1\n",
    "    return x, y"
   ]
  },
  {
   "cell_type": "code",
   "execution_count": null,
   "metadata": {},
   "outputs": [],
   "source": [
    "X_temp, y_temp = loading_hospital(path_to_data, random_state) "
   ]
  },
  {
   "cell_type": "markdown",
   "metadata": {},
   "source": [
    "### Training the models"
   ]
  },
  {
   "cell_type": "code",
   "execution_count": null,
   "metadata": {},
   "outputs": [],
   "source": [
    "def make_categorical(y, categorical, num_classes):\n",
    "    if categorical:\n",
    "        return keras.utils.to_categorical(y, num_classes)\n",
    "    else:\n",
    "        return y.astype(int)\n"
   ]
  },
  {
   "cell_type": "code",
   "execution_count": null,
   "metadata": {},
   "outputs": [],
   "source": [
    "def create_hospital_base():\n",
    "    # batch_size = 512\n",
    "    # epochs = 50\n",
    "    # learning_rate = 0.01\n",
    "    model = Sequential()\n",
    "    model.add(Dense(1024, activation='tanh', name='base_dense_1',\n",
    "                    kernel_initializer=keras.initializers.RandomNormal(mean=0.0, stddev=0.01, seed=None),\n",
    "                    bias_initializer='zeros'))\n",
    "    model.add(Dropout(0, name='dropout_1'))\n",
    "    model.add(Dense(512, activation='tanh', name='base_dense_2',\n",
    "                    kernel_initializer=keras.initializers.RandomNormal(mean=0.0, stddev=0.01, seed=None),\n",
    "                    bias_initializer='zeros'))\n",
    "    model.add(Dropout(0, name='dropout_2'))\n",
    "    model.add(Dense(256, activation='tanh', name='base_dense_3',\n",
    "                    kernel_initializer=keras.initializers.RandomNormal(mean=0.0, stddev=0.01, seed=None),\n",
    "                    bias_initializer='zeros'))\n",
    "    model.add(Dropout(0, name='dropout_3'))\n",
    "    model.add(Dense(2, activation='softmax', name='base_dense_4',\n",
    "                    kernel_initializer=keras.initializers.RandomNormal(mean=0.0, stddev=0.01, seed=None),\n",
    "                    bias_initializer='zeros'))\n",
    "    return model"
   ]
  },
  {
   "cell_type": "code",
   "execution_count": null,
   "metadata": {},
   "outputs": [],
   "source": [
    "def create_hospital(seed, data_size, categorical):\n",
    "\n",
    "    x, y = load_hospital()\n",
    "    y = (y + 1) / 2\n",
    "\n",
    "    np.random.seed(seed)\n",
    "    num_examples = len(y)\n",
    "    assert x.shape[0] == num_examples\n",
    "    num_train_examples_per_class = int(data_size / 2)\n",
    "    num_test_examples_per_class = int(data_size / 2)\n",
    "\n",
    "    pos_idx = np.where(y == 1)[0]\n",
    "    neg_idx = np.where(y == 0)[0]\n",
    "    np.random.shuffle(pos_idx)\n",
    "    np.random.shuffle(neg_idx)\n",
    "    assert len(pos_idx) + len(neg_idx) == num_examples\n",
    "\n",
    "    train_idx = np.concatenate((pos_idx[:num_train_examples_per_class], neg_idx[:num_train_examples_per_class]))\n",
    "    test_idx = np.concatenate((pos_idx[num_train_examples_per_class:num_train_examples_per_class +\n",
    "                               num_test_examples_per_class],\n",
    "                               neg_idx[num_train_examples_per_class:num_train_examples_per_class +\n",
    "                               num_test_examples_per_class]))\n",
    "    np.random.shuffle(train_idx)\n",
    "    np.random.shuffle(test_idx)\n",
    "\n",
    "    x_train = np.array(x.iloc[train_idx, :], dtype=np.float32)\n",
    "    y_train = y[train_idx]\n",
    "\n",
    "    x_test = np.array(x.iloc[test_idx, :], dtype=np.float32)\n",
    "    y_test = y[test_idx]\n",
    "\n",
    "    y_train = make_categorical(y_train, categorical, 2)\n",
    "    y_test = make_categorical(y_test, categorical, 2)\n",
    "\n",
    "    return x_train, y_train, x_test, y_test"
   ]
  },
  {
   "cell_type": "code",
   "execution_count": null,
   "metadata": {},
   "outputs": [],
   "source": [
    "def evaluate_model(model,X,y):\n",
    "    prediction = model.predict(X)\n",
    "    loss = keras.losses.categorical_crossentropy(tf.convert_to_tensor(prediction),tf.convert_to_tensor(y))\n",
    "    with sess.as_default():\n",
    "        loss = loss.eval()\n",
    "    try:\n",
    "    # noinspection PyUnresolvedReferences\n",
    "        model_wo_softmax = iutils.keras.graph.model_wo_softmax(model)\n",
    "    except Exception:\n",
    "        model_wo_softmax = model\n",
    "    analyzer = innvestigate.create_analyzer(\"gradient\", model_wo_softmax)\n",
    "    analysis = analyzer.analyze(X)\n",
    "    prediction_var = np.var(prediction,axis=1)\n",
    "    analysis_var = np.var(analysis,axis=1)\n",
    "    analysis_1 = np.linalg.norm(analysis,axis=1,ord=1)\n",
    "    analysis_2 = np.linalg.norm(analysis,axis=1,ord=2)\n",
    "    return loss, prediction_var, analysis_var, analysis_1, analysis_2"
   ]
  },
  {
   "cell_type": "code",
   "execution_count": null,
   "metadata": {},
   "outputs": [],
   "source": [
    "lr = 0.001\n",
    "decay = 1e-6\n",
    "epochs = 1000\n",
    "points_per_model = 10000\n",
    "verbose = 0\n",
    "explanation = \"gradient\"\n",
    "experiment_name = \"hospital\""
   ]
  },
  {
   "cell_type": "code",
   "execution_count": null,
   "metadata": {},
   "outputs": [],
   "source": [
    "for random_state in range(1):\n",
    "    print(random_state)\n",
    "    print(\"######\")\n",
    "    path=\"ThresholdExperiments/{}/{}/\".format(experiment_name,random_state)\n",
    "    os.makedirs(path)\n",
    "    np.random.seed(random_state)\n",
    "    main_indicies = np.random.choice(len(X_temp),80000,replace=False)\n",
    "    X,y = X_temp[main_indicies], y_temp[main_indicies]\n",
    "    start = time.time()\n",
    "    for model_number in range(4):\n",
    "        print(model_number, end=\" \")\n",
    "        x_train, y_train, x_test , y_test =  create_hospital(random_state, 10000,categorical=True)\n",
    "        optimizer = optimizers.Adagrad(lr=lr, decay=decay)\n",
    "        model = create_hospital_base()\n",
    "        model.compile(loss='categorical_crossentropy', optimizer=optimizer, metrics=['accuracy'])\n",
    "        model.fit(x_train, y_train, epochs=epochs, \n",
    "              validation_data=(x_test, y_test), verbose=verbose)\n",
    "        train_loss, train_prediction_var, train_analysis_var, train_analysis_1, train_analysis_2 = evaluate_model(model,x_train,y_train)\n",
    "        df = pd.DataFrame()\n",
    "        df['train_loss'] = train_loss\n",
    "        df['train_prediction_var'] = train_prediction_var\n",
    "        df['train_analysis_var'] = train_analysis_var\n",
    "        df['train_analysis_1'] = train_analysis_1\n",
    "        df['train_analysis_2'] = train_analysis_2\n",
    "        test_loss, test_prediction_var, test_analysis_var, test_analysis_1, test_analysis_2 = evaluate_model(model,x_test,y_test)\n",
    "        df['test_loss'] = test_loss\n",
    "        df['test_prediction_var'] = test_prediction_var\n",
    "        df['test_analysis_var'] = test_analysis_var\n",
    "        df['test_analysis_1'] = test_analysis_1\n",
    "        df['test_analysis_2'] = test_analysis_2\n",
    "        df.to_csv(\"{}/{}.csv\".format(path,model_number))\n",
    "        print(time.time() - start)"
   ]
  },
  {
   "cell_type": "code",
   "execution_count": null,
   "metadata": {},
   "outputs": [],
   "source": []
  }
 ],
 "metadata": {
  "kernelspec": {
   "display_name": "Python 3",
   "language": "python",
   "name": "python3"
  },
  "language_info": {
   "codemirror_mode": {
    "name": "ipython",
    "version": 3
   },
   "file_extension": ".py",
   "mimetype": "text/x-python",
   "name": "python",
   "nbconvert_exporter": "python",
   "pygments_lexer": "ipython3",
   "version": "3.6.10"
  }
 },
 "nbformat": 4,
 "nbformat_minor": 4
}
