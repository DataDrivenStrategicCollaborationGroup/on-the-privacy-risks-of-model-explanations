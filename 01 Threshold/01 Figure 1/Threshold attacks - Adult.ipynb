{
 "cells": [
  {
   "cell_type": "markdown",
   "metadata": {},
   "source": [
    "# Adult"
   ]
  },
  {
   "cell_type": "code",
   "execution_count": 1,
   "metadata": {},
   "outputs": [
    {
     "name": "stderr",
     "output_type": "stream",
     "text": [
      "Using TensorFlow backend.\n"
     ]
    }
   ],
   "source": [
    "from keras.layers import Dense, Dropout, Input, Conv2D, MaxPooling2D, Flatten, Activation\n",
    "from keras.models import Sequential, Model\n",
    "import keras\n",
    "from keras.datasets import cifar100\n",
    "import numpy as np\n",
    "from keras import optimizers\n",
    "from sklearn.model_selection import train_test_split\n",
    "from keras.callbacks import CSVLogger\n",
    "import tensorflow as tf\n",
    "import innvestigate\n",
    "import innvestigate.utils as iutils\n",
    "import pandas as pd\n",
    "import matplotlib.pyplot as plt\n",
    "import os\n",
    "import time\n",
    "from collections import namedtuple\n",
    "from sklearn.model_selection import train_test_split"
   ]
  },
  {
   "cell_type": "code",
   "execution_count": 2,
   "metadata": {},
   "outputs": [
    {
     "name": "stdout",
     "output_type": "stream",
     "text": [
      "setGPU: Setting GPU to: 5\n"
     ]
    }
   ],
   "source": [
    "import setGPU"
   ]
  },
  {
   "cell_type": "code",
   "execution_count": 3,
   "metadata": {},
   "outputs": [],
   "source": [
    "sess = tf.InteractiveSession()"
   ]
  },
  {
   "cell_type": "code",
   "execution_count": 4,
   "metadata": {},
   "outputs": [],
   "source": [
    "random_state = 42"
   ]
  },
  {
   "cell_type": "code",
   "execution_count": 5,
   "metadata": {},
   "outputs": [],
   "source": [
    "path_to_data = r'' + '../data/'"
   ]
  },
  {
   "cell_type": "markdown",
   "metadata": {},
   "source": [
    "### 1 Loading adult"
   ]
  },
  {
   "cell_type": "code",
   "execution_count": 6,
   "metadata": {},
   "outputs": [],
   "source": [
    "# credits: http://stackoverflow.com/questions/2356925/how-to-check-whether-string-might-be-type-cast-to-float-in-python\n",
    "def is_float(string):\n",
    "    try:\n",
    "        float(string)\n",
    "        return True\n",
    "    except ValueError:\n",
    "        return False\n",
    "    \n",
    "def find_means_for_continuous_types(x):\n",
    "    means = []\n",
    "    for col in range(len(x[0])):\n",
    "        m_sum = 0\n",
    "        count = 0.000000000000000000001\n",
    "        for value in x[:, col]:\n",
    "            if is_float(value):\n",
    "                m_sum += float(value)\n",
    "                count += 1\n",
    "        means.append(m_sum / count)\n",
    "    return means\n",
    "\n",
    "def prepare_data(raw_data, means, inputs, input_shape):\n",
    "    x = raw_data[:, :-1]\n",
    "    y = raw_data[:, -1:]\n",
    "\n",
    "    # x:\n",
    "    def flatten_persons_inputs_for_model(person_inputs, j_means, j_inputs, j_input_shape):\n",
    "        float_inputs = []\n",
    "        for l in range(len(j_input_shape)):\n",
    "            features_of_this_type = j_input_shape[l]\n",
    "            is_feature_continuous = j_inputs[l][1][0] == 'continuous'\n",
    "\n",
    "            if is_feature_continuous:\n",
    "                mean = j_means[l]\n",
    "                if is_float(person_inputs[l]):\n",
    "                    scale_factor = 1 / (2 * mean)  # we prefer inputs mainly scaled from -1 to 1.\n",
    "                    float_inputs.append(float(person_inputs[l]) * scale_factor)\n",
    "                else:\n",
    "                    float_inputs.append(mean)\n",
    "            else:\n",
    "                for j in range(features_of_this_type):\n",
    "                    feature_name = j_inputs[l][1][j]\n",
    "                    if feature_name == person_inputs[l]:\n",
    "                        float_inputs.append(1.)\n",
    "                    else:\n",
    "                        float_inputs.append(0)\n",
    "        return float_inputs\n",
    "\n",
    "    new_x = []\n",
    "    for person in range(len(x)):\n",
    "        formatted_x = flatten_persons_inputs_for_model(x[person], means, inputs, input_shape)\n",
    "        new_x.append(formatted_x)\n",
    "    new_x = np.array(new_x)\n",
    "\n",
    "    # y:\n",
    "    new_y = []\n",
    "    for i in range(len(y)):\n",
    "        if y[i] == \">50K\":\n",
    "            new_y.append(1)\n",
    "        else:  # y[i] == \"<=50k\":\n",
    "            new_y.append(0)\n",
    "    new_y = np.array(new_y)\n",
    "    return new_x, new_y\n",
    "\n"
   ]
  },
  {
   "cell_type": "code",
   "execution_count": 7,
   "metadata": {},
   "outputs": [],
   "source": [
    "def loading_adult(path_to_data, random_state):\n",
    "    inputs = (\n",
    "        (\"age\", (\"continuous\",)),\n",
    "        (\"workclass\", (\"Private\", \"Self-emp-not-inc\", \"Self-emp-inc\", \"Federal-gov\", \"Local-gov\", \"State-gov\",\n",
    "                       \"Without-pay\", \"Never-worked\")),\n",
    "        (\"fnlwgt\", (\"continuous\",)),\n",
    "        (\"education\", (\"Bachelors\", \"Some-college\", \"11th\", \"HS-grad\", \"Prof-school\", \"Assoc-acdm\", \"Assoc-voc\", \"9th\",\n",
    "                       \"7th-8th\", \"12th\", \"Masters\", \"1st-4th\", \"10th\", \"Doctorate\", \"5th-6th\", \"Preschool\")),\n",
    "        (\"education-num\", (\"continuous\",)),\n",
    "        (\"marital-status\", (\"Married-civ-spouse\", \"Divorced\", \"Never-married\", \"Separated\", \"Widowed\",\n",
    "                            \"Married-spouse-absent\", \"Married-AF-spouse\")),\n",
    "        (\"occupation\", (\"Tech-support\", \"Craft-repair\", \"Other-service\", \"Sales\", \"Exec-managerial\", \"Prof-specialty\",\n",
    "                        \"Handlers-cleaners\", \"Machine-op-inspct\", \"Adm-clerical\", \"Farming-fishing\", \"Transport-moving\",\n",
    "                        \"Priv-house-serv\", \"Protective-serv\", \"Armed-Forces\")),\n",
    "        (\"relationship\", (\"Wife\", \"Own-child\", \"Husband\", \"Not-in-family\", \"Other-relative\", \"Unmarried\")),\n",
    "        (\"race\", (\"White\", \"Asian-Pac-Islander\", \"Amer-Indian-Eskimo\", \"Other\", \"Black\")),\n",
    "        (\"sex\", (\"Female\", \"Male\")),\n",
    "        (\"capital-gain\", (\"continuous\",)),\n",
    "        (\"capital-loss\", (\"continuous\",)),\n",
    "        (\"hours-per-week\", (\"continuous\",)),\n",
    "        (\"native-country\", (\"United-States\", \"Cambodia\", \"England\", \"Puerto-Rico\", \"Canada\", \"Germany\",\n",
    "                            \"Outlying-US(Guam-USVI-etc)\", \"India\", \"Japan\", \"Greece\", \"South\", \"China\", \"Cuba\", \"Iran\",\n",
    "                            \"Honduras\", \"Philippines\", \"Italy\", \"Poland\", \"Jamaica\", \"Vietnam\", \"Mexico\", \"Portugal\",\n",
    "                            \"Ireland\", \"France\", \"Dominican-Republic\", \"Laos\", \"Ecuador\", \"Taiwan\", \"Haiti\", \"Columbia\",\n",
    "                            \"Hungary\", \"Guatemala\", \"Nicaragua\", \"Scotland\", \"Thailand\", \"Yugoslavia\", \"El-Salvador\",\n",
    "                            \"Trinadad&Tobago\", \"Peru\", \"Hong\", \"Holand-Netherlands\")),\n",
    "    )\n",
    "\n",
    "    input_shape = []\n",
    "    column_names = []\n",
    "    for i in inputs:\n",
    "        count = len(i[1])\n",
    "        if count <= 2:\n",
    "            count = 1\n",
    "            column_names.append(i[0])\n",
    "        else:\n",
    "            for j in range(len(i[1])):\n",
    "                column_names.append(\"{}_{}\".format(i[0], i[1][j]))\n",
    "        input_shape.append(count)\n",
    "\n",
    "    cols = [\"Age\", \"Workclass\", \"fnlwgt\", \"Education\", \"Education-Num\", \"Marital Status\",\n",
    "            \"Occupation\", \"Relationship\", \"Race\", \"Sex\", \"Capital Gain\", \"Capital Loss\",\n",
    "            \"Hours per week\", \"Country\", \"Target\"]\n",
    "    re_cols = [\"Age\", \"Workclass\", \"fnlwgt\", \"Education\", \"Education-Num\", \"Marital Status\",\n",
    "               \"Occupation\", \"Relationship\", \"Race\", \"Sex\", \"Capital Gain\", \"Capital Loss\",\n",
    "               \"Hours per week\", \"Country\", \"Target\"]\n",
    "    path_train = path_to_data + \"/adult/adult.data\"\n",
    "    path_test = path_to_data + \"/adult/adult.test\"\n",
    "    training_data = pd.read_csv(\n",
    "                    path_train,\n",
    "                    names=cols,\n",
    "                    sep=r'\\s*,\\s*',\n",
    "                    engine='python',\n",
    "                    na_values=\"?\")\n",
    "    training_data = training_data[re_cols].values\n",
    "    test_data = pd.read_csv(\n",
    "                    path_test,\n",
    "                    names=cols,\n",
    "                    sep=r'\\s*,\\s*',\n",
    "                    engine='python',\n",
    "                    na_values=\"?\")\n",
    "    test_data = test_data[re_cols].values\n",
    "    means = find_means_for_continuous_types(np.concatenate((training_data, test_data), 0))\n",
    "\n",
    "    x_train, y_train = prepare_data(training_data, means, inputs, input_shape)\n",
    "    x_test, y_test = prepare_data(test_data, means, inputs, input_shape)\n",
    "    X_temp = np.concatenate([x_train, x_test])\n",
    "    y_temp = np.concatenate([y_train, y_test])\n",
    "    return X_temp, y_temp"
   ]
  },
  {
   "cell_type": "code",
   "execution_count": 8,
   "metadata": {},
   "outputs": [],
   "source": [
    "# The `adult.test` file for the Adult dataset is a little compromised, to be able to use it. You need to remove the first line\n",
    "# and remove the . (period) at the end of every line this can easily be done in a texteditor Replace `K.` with `K` \n",
    "X_temp, y_temp = loading_adult(path_to_data, random_state)\n",
    "y_temp =  keras.utils.to_categorical(y_temp, 2)"
   ]
  },
  {
   "cell_type": "markdown",
   "metadata": {},
   "source": [
    "### Training the models"
   ]
  },
  {
   "cell_type": "code",
   "execution_count": 9,
   "metadata": {},
   "outputs": [],
   "source": [
    "def create_adult_base():\n",
    "    # batch_size = 512\n",
    "    # epochs = 50\n",
    "    # learning_rate = 0.01\n",
    "    model = Sequential()\n",
    "    model.add(Dense(20, activation='tanh',\n",
    "                    kernel_initializer=keras.initializers.RandomNormal(mean=0.0, stddev=0.01, seed=None),\n",
    "                    bias_initializer='zeros'))\n",
    "    model.add(Dense(20, activation='tanh',\n",
    "                    kernel_initializer=keras.initializers.RandomNormal(mean=0.0, stddev=0.01, seed=None),\n",
    "                    bias_initializer='zeros'))\n",
    "    model.add(Dense(20, activation='tanh',\n",
    "                    kernel_initializer=keras.initializers.RandomNormal(mean=0.0, stddev=0.01, seed=None),\n",
    "                    bias_initializer='zeros'))\n",
    "    model.add(Dense(20, activation='tanh',\n",
    "                    kernel_initializer=keras.initializers.RandomNormal(mean=0.0, stddev=0.01, seed=None),\n",
    "                    bias_initializer='zeros'))\n",
    "    model.add(Dense(2, activation='softmax',\n",
    "                    kernel_initializer=keras.initializers.RandomNormal(mean=0.0, stddev=0.01, seed=None),\n",
    "                    bias_initializer='zeros'))\n",
    "\n",
    "    return model"
   ]
  },
  {
   "cell_type": "code",
   "execution_count": 10,
   "metadata": {},
   "outputs": [],
   "source": [
    "def evaluate_model(model,X,y):\n",
    "    prediction = model.predict(X)\n",
    "    loss = keras.losses.categorical_crossentropy(tf.convert_to_tensor(prediction),tf.convert_to_tensor(y))\n",
    "    with sess.as_default():\n",
    "        loss = loss.eval()\n",
    "    try:\n",
    "    # noinspection PyUnresolvedReferences\n",
    "        model_wo_softmax = iutils.keras.graph.model_wo_softmax(model)\n",
    "    except Exception:\n",
    "        model_wo_softmax = model\n",
    "    analyzer = innvestigate.create_analyzer(\"gradient\", model_wo_softmax)\n",
    "    analysis = analyzer.analyze(X)\n",
    "    prediction_var = np.var(prediction,axis=1)\n",
    "    analysis_var = np.var(analysis,axis=1)\n",
    "    analysis_1 = np.linalg.norm(analysis,axis=1,ord=1)\n",
    "    analysis_2 = np.linalg.norm(analysis,axis=1,ord=2)\n",
    "    return loss, prediction_var, analysis_var, analysis_1, analysis_2"
   ]
  },
  {
   "cell_type": "code",
   "execution_count": 11,
   "metadata": {},
   "outputs": [],
   "source": [
    "lr = 0.001\n",
    "epochs = 20\n",
    "points_per_model = 5000\n",
    "decay = 1e-7\n",
    "verbose = 0\n",
    "experiment_name = \"adult\""
   ]
  },
  {
   "cell_type": "code",
   "execution_count": 12,
   "metadata": {},
   "outputs": [
    {
     "name": "stdout",
     "output_type": "stream",
     "text": [
      "0\n",
      "######\n",
      "0 WARNING:tensorflow:From /home/martin/.local/lib/python3.6/site-packages/keras/backend/tensorflow_backend.py:74: The name tf.get_default_graph is deprecated. Please use tf.compat.v1.get_default_graph instead.\n",
      "\n",
      "WARNING:tensorflow:From /home/martin/.local/lib/python3.6/site-packages/keras/optimizers.py:790: The name tf.train.Optimizer is deprecated. Please use tf.compat.v1.train.Optimizer instead.\n",
      "\n",
      "WARNING:tensorflow:From /home/martin/.local/lib/python3.6/site-packages/keras/backend/tensorflow_backend.py:517: The name tf.placeholder is deprecated. Please use tf.compat.v1.placeholder instead.\n",
      "\n",
      "WARNING:tensorflow:From /home/martin/.local/lib/python3.6/site-packages/keras/backend/tensorflow_backend.py:4115: The name tf.random_normal is deprecated. Please use tf.random.normal instead.\n",
      "\n",
      "WARNING:tensorflow:From /home/martin/.local/lib/python3.6/site-packages/keras/backend/tensorflow_backend.py:3295: The name tf.log is deprecated. Please use tf.math.log instead.\n",
      "\n",
      "WARNING:tensorflow:From /home/martin/anaconda3/envs/PvsT/lib/python3.6/site-packages/tensorflow_core/python/ops/math_grad.py:1424: where (from tensorflow.python.ops.array_ops) is deprecated and will be removed in a future version.\n",
      "Instructions for updating:\n",
      "Use tf.where in 2.0, which has the same broadcast rule as np.where\n",
      "WARNING:tensorflow:From /home/martin/.local/lib/python3.6/site-packages/keras/backend/tensorflow_backend.py:986: The name tf.assign_add is deprecated. Please use tf.compat.v1.assign_add instead.\n",
      "\n",
      "WARNING:tensorflow:From /home/martin/.local/lib/python3.6/site-packages/keras/backend/tensorflow_backend.py:973: The name tf.assign is deprecated. Please use tf.compat.v1.assign instead.\n",
      "\n",
      "WARNING:tensorflow:From /home/martin/.local/lib/python3.6/site-packages/keras/backend/tensorflow_backend.py:2741: The name tf.Session is deprecated. Please use tf.compat.v1.Session instead.\n",
      "\n",
      "WARNING:tensorflow:From /home/martin/.local/lib/python3.6/site-packages/keras/backend/tensorflow_backend.py:174: The name tf.get_default_session is deprecated. Please use tf.compat.v1.get_default_session instead.\n",
      "\n",
      "WARNING:tensorflow:From /home/martin/.local/lib/python3.6/site-packages/keras/backend/tensorflow_backend.py:190: The name tf.global_variables is deprecated. Please use tf.compat.v1.global_variables instead.\n",
      "\n",
      "WARNING:tensorflow:From /home/martin/.local/lib/python3.6/site-packages/keras/backend/tensorflow_backend.py:199: The name tf.is_variable_initialized is deprecated. Please use tf.compat.v1.is_variable_initialized instead.\n",
      "\n",
      "WARNING:tensorflow:From /home/martin/.local/lib/python3.6/site-packages/keras/backend/tensorflow_backend.py:206: The name tf.variables_initializer is deprecated. Please use tf.compat.v1.variables_initializer instead.\n",
      "\n",
      "30.86101794242859\n",
      "1 66.04473161697388\n",
      "2 101.07218980789185\n",
      "3 136.77771520614624\n"
     ]
    }
   ],
   "source": [
    "for random_state in range(1):\n",
    "    print(random_state)\n",
    "    print(\"######\")\n",
    "    path=\"ThresholdExperiments/{}/{}/\".format(experiment_name,random_state)\n",
    "    os.makedirs(path)\n",
    "    np.random.seed(random_state)\n",
    "    main_indicies = np.random.choice(len(X_temp),40000,replace=False)\n",
    "    X,y = X_temp[main_indicies], y_temp[main_indicies]\n",
    "    start = time.time()\n",
    "    for model_number in range(4):\n",
    "        print(model_number, end=\" \")\n",
    "        start_train = 2*model_number*points_per_model\n",
    "        start_test = start_train+points_per_model\n",
    "        end_test = start_test+points_per_model\n",
    "        x_train, x_test =  X[start_train:start_test], X[start_test:end_test]\n",
    "        y_train, y_test =  y[start_train:start_test], y[start_test:end_test]\n",
    "        optimizer = optimizers.Adagrad(lr=lr, decay=decay)\n",
    "        model = create_adult_base()\n",
    "        model.compile(loss='categorical_crossentropy', optimizer=optimizer, metrics=['accuracy'])\n",
    "        model.fit(x_train, y_train, epochs=epochs, \n",
    "              validation_data=(x_test, y_test), verbose=verbose)\n",
    "        train_loss, train_prediction_var, train_analysis_var, train_analysis_1, train_analysis_2 = evaluate_model(model,x_train,y_train)\n",
    "        df = pd.DataFrame()\n",
    "        df['train_loss'] = train_loss\n",
    "        df['train_prediction_var'] = train_prediction_var\n",
    "        df['train_analysis_var'] = train_analysis_var\n",
    "        df['train_analysis_1'] = train_analysis_1\n",
    "        df['train_analysis_2'] = train_analysis_2\n",
    "        test_loss, test_prediction_var, test_analysis_var, test_analysis_1, test_analysis_2 = evaluate_model(model,x_test,y_test)\n",
    "        df['test_loss'] = test_loss\n",
    "        df['test_prediction_var'] = test_prediction_var\n",
    "        df['test_analysis_var'] = test_analysis_var\n",
    "        df['test_analysis_1'] = test_analysis_1\n",
    "        df['test_analysis_2'] = test_analysis_2\n",
    "        df.to_csv(\"{}/{}.csv\".format(path,model_number))\n",
    "        print(time.time() - start)"
   ]
  },
  {
   "cell_type": "code",
   "execution_count": null,
   "metadata": {},
   "outputs": [],
   "source": []
  }
 ],
 "metadata": {
  "kernelspec": {
   "display_name": "Python 3",
   "language": "python",
   "name": "python3"
  },
  "language_info": {
   "codemirror_mode": {
    "name": "ipython",
    "version": 3
   },
   "file_extension": ".py",
   "mimetype": "text/x-python",
   "name": "python",
   "nbconvert_exporter": "python",
   "pygments_lexer": "ipython3",
   "version": "3.6.10"
  }
 },
 "nbformat": 4,
 "nbformat_minor": 4
}
