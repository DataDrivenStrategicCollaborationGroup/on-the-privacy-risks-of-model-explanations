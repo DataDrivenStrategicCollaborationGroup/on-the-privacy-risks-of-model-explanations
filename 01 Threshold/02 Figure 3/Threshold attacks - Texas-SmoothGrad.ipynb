{
 "cells": [
  {
   "cell_type": "markdown",
   "metadata": {},
   "source": [
    "# Texas- SmoothGrad"
   ]
  },
  {
   "cell_type": "code",
   "execution_count": null,
   "metadata": {},
   "outputs": [],
   "source": [
    "from keras.layers import Dense, Dropout, Input, Conv2D, MaxPooling2D, Flatten\n",
    "from keras.models import Sequential, Model\n",
    "import keras\n",
    "import numpy as np\n",
    "from keras import optimizers\n",
    "from sklearn.model_selection import train_test_split\n",
    "from keras.callbacks import CSVLogger\n",
    "import tensorflow as tf\n",
    "import innvestigate\n",
    "import innvestigate.utils as iutils\n",
    "import pandas as pd\n",
    "import matplotlib.pyplot as plt\n",
    "import os\n",
    "import time"
   ]
  },
  {
   "cell_type": "code",
   "execution_count": null,
   "metadata": {},
   "outputs": [],
   "source": [
    "import setGPU"
   ]
  },
  {
   "cell_type": "code",
   "execution_count": null,
   "metadata": {},
   "outputs": [],
   "source": [
    "sess = tf.InteractiveSession()"
   ]
  },
  {
   "cell_type": "code",
   "execution_count": null,
   "metadata": {},
   "outputs": [],
   "source": [
    "random_state = 42"
   ]
  },
  {
   "cell_type": "markdown",
   "metadata": {},
   "source": [
    "### 1 Loading texas"
   ]
  },
  {
   "cell_type": "code",
   "execution_count": null,
   "metadata": {},
   "outputs": [],
   "source": [
    "data = pd.read_csv(r'' + '../data' + '/texas/100/feats', header=None)\n",
    "labels = pd.read_csv(r'' + '../data' + '/texas/100/labels', header=None)\n",
    "y = np.asarray(labels) - 1\n",
    "X = np.asarray(data)"
   ]
  },
  {
   "cell_type": "code",
   "execution_count": null,
   "metadata": {},
   "outputs": [],
   "source": [
    "np.random.seed(random_state)\n",
    "main_indicies = np.random.choice(len(X),80000)"
   ]
  },
  {
   "cell_type": "code",
   "execution_count": null,
   "metadata": {},
   "outputs": [],
   "source": [
    "X_temp,y_temp = X[main_indicies], y[main_indicies]"
   ]
  },
  {
   "cell_type": "code",
   "execution_count": null,
   "metadata": {},
   "outputs": [],
   "source": [
    "y_temp =  keras.utils.to_categorical(y_temp, 100)"
   ]
  },
  {
   "cell_type": "markdown",
   "metadata": {},
   "source": [
    "### Training the models"
   ]
  },
  {
   "cell_type": "code",
   "execution_count": null,
   "metadata": {},
   "outputs": [],
   "source": [
    "lr = 0.01\n",
    "decay = 1e-7\n",
    "epochs = 50\n",
    "points_per_model = 10000\n",
    "verbose = 0\n",
    "experiment_name = \"texas-smoothgrad\"\n",
    "path=\"ThresholdExperiments/{}/{}/\".format(experiment_name,random_state)"
   ]
  },
  {
   "cell_type": "code",
   "execution_count": null,
   "metadata": {},
   "outputs": [],
   "source": [
    "def create_texas_base():\n",
    "    # batch_size = 512\n",
    "    # epochs = 50\n",
    "    # learning_rate = 0.01\n",
    "    # lr_decay = 1e-7\n",
    "    model = Sequential()\n",
    "    # model.add(Dense(20, activation='tanh',\n",
    "    #                kernel_initializer=keras.initializers.RandomNormal(mean=0.0, stddev=0.01, seed=None),\n",
    "    #                bias_initializer='zeros'))\n",
    "    # model.add(Dropout(0, name='dropout_3'))\n",
    "    # model.add(Dense(100, activation='softmax',\n",
    "    #                kernel_initializer=keras.initializers.RandomNormal(mean=0.0, stddev=0.01, seed=None),\n",
    "    #               bias_initializer='zeros'))\n",
    "    model.add(Dense(2048, activation='tanh',\n",
    "                    kernel_initializer=keras.initializers.RandomNormal(mean=0.0, stddev=0.01, seed=None),\n",
    "                    bias_initializer='zeros'))\n",
    "    model.add(Dense(1024, activation='tanh',\n",
    "                    kernel_initializer=keras.initializers.RandomNormal(mean=0.0, stddev=0.01, seed=None),\n",
    "                    bias_initializer='zeros'))\n",
    "    model.add(Dense(512, activation='tanh',\n",
    "                    kernel_initializer=keras.initializers.RandomNormal(mean=0.0, stddev=0.01, seed=None),\n",
    "                    bias_initializer='zeros'))\n",
    "    model.add(Dense(256, activation='tanh',\n",
    "                    kernel_initializer=keras.initializers.RandomNormal(mean=0.0, stddev=0.01, seed=None),\n",
    "                    bias_initializer='zeros'))\n",
    "    model.add(Dense(100, activation='softmax',\n",
    "                    kernel_initializer=keras.initializers.RandomNormal(mean=0.0, stddev=0.01, seed=None),\n",
    "                    bias_initializer='zeros'))\n",
    "    return model"
   ]
  },
  {
   "cell_type": "code",
   "execution_count": null,
   "metadata": {},
   "outputs": [],
   "source": [
    "def evaluate_model(model,X,y,explanation=\"gradient\",batch_size=256):\n",
    "    prediction = model.predict(X)\n",
    "    loss = keras.losses.categorical_crossentropy(tf.convert_to_tensor(prediction),tf.convert_to_tensor(y))\n",
    "    with sess.as_default():\n",
    "        loss = loss.eval()\n",
    "    try:\n",
    "    # noinspection PyUnresolvedReferences\n",
    "        model_wo_softmax = iutils.keras.graph.model_wo_softmax(model)\n",
    "    except Exception:\n",
    "        model_wo_softmax = model\n",
    "    analyzer = innvestigate.create_analyzer(explanation, model_wo_softmax)\n",
    "    analysis = np.zeros(X.shape)\n",
    "    for batch in range(0,len(X),batch_size):\n",
    "        analysis[batch:batch+batch_size] = analyzer.analyze(X[batch:batch+batch_size])\n",
    "    prediction_var = np.var(prediction,axis=1)\n",
    "    analysis_var = np.var(analysis,axis=1)\n",
    "    analysis_1 = np.linalg.norm(analysis,axis=1,ord=1)\n",
    "    analysis_2 = np.linalg.norm(analysis,axis=1,ord=2)\n",
    "    return loss, prediction_var, analysis_var, analysis_1, analysis_2"
   ]
  },
  {
   "cell_type": "code",
   "execution_count": null,
   "metadata": {},
   "outputs": [],
   "source": [
    "lr = 0.01\n",
    "decay = 1e-7\n",
    "epochs = 50\n",
    "points_per_model = 10000\n",
    "verbose = 0\n",
    "experiment_name = \"texas-smoothgrad\"\n",
    "explanation = \"smoothgrad\"\n",
    "path=\"ThresholdExperiments/{}/{}/\".format(experiment_name,random_state)"
   ]
  },
  {
   "cell_type": "code",
   "execution_count": null,
   "metadata": {},
   "outputs": [],
   "source": [
    "for random_state in range(10):\n",
    "    print(random_state)\n",
    "    print(\"######\")\n",
    "    path=\"ThresholdExperiments/{}/{}/\".format(experiment_name,random_state)\n",
    "    os.makedirs(path)\n",
    "    np.random.seed(random_state)\n",
    "    main_indicies = np.random.choice(len(X_temp),len(X_temp),replace=False)\n",
    "    X,y = X_temp[main_indicies], y_temp[main_indicies]\n",
    "    start = time.time()\n",
    "    for model_number in range(np.floor(len(X)/(2*points_per_model)).astype(int)):\n",
    "        print(model_number, end=\" \")\n",
    "        start_train = 2*model_number*points_per_model\n",
    "        start_test = start_train+points_per_model\n",
    "        end_test = start_test+points_per_model\n",
    "        x_train, x_test =  X[start_train:start_test], X[start_test:end_test]\n",
    "        y_train, y_test =  y[start_train:start_test], y[start_test:end_test]\n",
    "        optimizer = optimizers.Adagrad(lr=lr, decay=decay)\n",
    "        model = create_texas_base()\n",
    "        model.compile(loss='categorical_crossentropy', optimizer=optimizer, metrics=['accuracy'])\n",
    "        model.fit(x_train, y_train, epochs=epochs, \n",
    "              validation_data=(x_test, y_test), verbose=verbose)\n",
    "        train_loss, train_prediction_var, train_analysis_var, train_analysis_1, train_analysis_2 = evaluate_model(model,x_train,y_train,explanation=explanation)\n",
    "        df = pd.DataFrame()\n",
    "        df['train_loss'] = train_loss\n",
    "        df['train_prediction_var'] = train_prediction_var\n",
    "        df['train_analysis_var'] = train_analysis_var\n",
    "        df['train_analysis_1'] = train_analysis_1\n",
    "        df['train_analysis_2'] = train_analysis_2\n",
    "        test_loss, test_prediction_var, test_analysis_var, test_analysis_1, test_analysis_2 = evaluate_model(model,x_test,y_test,explanation=explanation)\n",
    "        df['test_loss'] = test_loss\n",
    "        df['test_prediction_var'] = test_prediction_var\n",
    "        df['test_analysis_var'] = test_analysis_var\n",
    "        df['test_analysis_1'] = test_analysis_1\n",
    "        df['test_analysis_2'] = test_analysis_2\n",
    "        df.to_csv(\"{}/{}.csv\".format(path,model_number))\n",
    "        print(time.time() - start)"
   ]
  },
  {
   "cell_type": "code",
   "execution_count": null,
   "metadata": {},
   "outputs": [],
   "source": []
  }
 ],
 "metadata": {
  "kernelspec": {
   "display_name": "Python 3",
   "language": "python",
   "name": "python3"
  },
  "language_info": {
   "codemirror_mode": {
    "name": "ipython",
    "version": 3
   },
   "file_extension": ".py",
   "mimetype": "text/x-python",
   "name": "python",
   "nbconvert_exporter": "python",
   "pygments_lexer": "ipython3",
   "version": "3.6.10"
  }
 },
 "nbformat": 4,
 "nbformat_minor": 4
}
